{
 "cells": [
  {
   "cell_type": "markdown",
   "metadata": {},
   "source": [
    "# Football Events and Game Information"
   ]
  },
  {
   "cell_type": "markdown",
   "metadata": {},
   "source": [
    "# Question to answer\n",
    "What is the value of a shot? Or what is the probability of a shot being a goal given its location, shooter, league, assist method, gamestate, number of players on the pitch, time - known as expected goals (xG) models [Binary classification, Sara ]\n"
   ]
  },
  {
   "cell_type": "markdown",
   "metadata": {},
   "source": [
    "imports and initialization"
   ]
  },
  {
   "cell_type": "code",
   "execution_count": 1,
   "metadata": {},
   "outputs": [],
   "source": [
    "import zipfile\n",
    "import numpy as np \n",
    "import scipy as sp \n",
    "import matplotlib as mpl\n",
    "import matplotlib.cm as cm \n",
    "import matplotlib.pyplot as plt\n",
    "import pandas as pd \n",
    "pd.set_option('display.width', 500)\n",
    "pd.set_option('display.max_columns', 100)\n",
    "pd.set_option('display.notebook_repr_html', True)\n",
    "import seaborn as sns\n",
    "%matplotlib inline \n",
    "sns.set(style=\"whitegrid\")\n",
    "import warnings\n",
    "warnings.filterwarnings('ignore')\n",
    "\n",
    "from imblearn.under_sampling import RandomUnderSampler\n",
    "from imblearn.over_sampling import RandomOverSampler\n",
    "from imblearn.over_sampling import SMOTENC\n",
    "from collections import Counter\n",
    "\n",
    "\n",
    "from sklearn.model_selection import train_test_split\n",
    "from sklearn import metrics\n",
    "from sklearn.linear_model import LogisticRegression\n",
    "from sklearn.ensemble import RandomForestClassifier\n",
    "from sklearn.svm import SVC\n",
    "from sklearn.ensemble import GradientBoostingClassifier\n",
    "from sklearn.decomposition import PCA\n",
    "\n",
    "\n",
    "from lime import lime_tabular"
   ]
  },
  {
   "cell_type": "code",
   "execution_count": 2,
   "metadata": {},
   "outputs": [],
   "source": [
    "# plt.style.use(['dark_background', 'bmh'])\n",
    "# plt.rc('axes', facecolor='k')\n",
    "# plt.rc('figure', facecolor='k')\n",
    "# plt.rc('figure', figsize=(5,5))"
   ]
  },
  {
   "cell_type": "markdown",
   "metadata": {},
   "source": [
    "# Reading the Data"
   ]
  },
  {
   "cell_type": "code",
   "execution_count": 8,
   "metadata": {},
   "outputs": [],
   "source": [
    "def read_merge():\n",
    "    df_events = pd.read_csv(\"../data/events.csv\")\n",
    "    df_game_info = pd.read_csv(\"../data/ginf.csv\")\n",
    "    \n",
    "    # manually convert the dictionary.txt to python dicts\n",
    "    event_types = {1:'Attempt', 2:'Corner', 3:'Foul', 4:'Yellow card', 5:'Second yellow card', 6:'Red card', 7:'Substitution', 8:'Free kick won', 9:'Offside', 10:'Hand ball', 11:'Penalty conceded'}\n",
    "    event_types2 = {12:'Key Pass', 13:'Failed through ball', 14:'Sending off', 15:'Own goal'}\n",
    "    sides = {1:'Home', 2:'Away'}\n",
    "    shot_places = {1:'Bit too high', 2:'Blocked', 3:'Bottom left corner', 4:'Bottom right corner', 5:'Centre of the goal', 6:'High and wide', 7:'Hits the bar', 8:'Misses to the left', 9:'Misses to the right', 10:'Too high', 11:'Top centre of the goal', 12:'Top left corner', 13:'Top right corner'}\n",
    "    shot_outcomes = {1:'On target', 2:'Off target', 3:'Blocked', 4:'Hit the bar'}\n",
    "    locations = {1:'Attacking half', 2:'Defensive half', 3:'Centre of the box', 4:'Left wing', 5:'Right wing', 6:'Difficult angle and long range', 7:'Difficult angle on the left', 8:'Difficult angle on the right', 9:'Left side of the box', 10:'Left side of the six yard box', 11:'Right side of the box', 12:'Right side of the six yard box', 13:'Very close range', 14:'Penalty spot', 15:'Outside the box', 16:'Long range', 17:'More than 35 yards', 18:'More than 40 yards', 19:'Not recorded'}\n",
    "    bodyparts = {1:'right foot', 2:'left foot', 3:'head'}\n",
    "    assist_methods = {0:np.nan, 1:'Pass', 2:'Cross', 3:'Headed pass', 4:'Through ball'}\n",
    "    situations = {1:'Open play', 2:'Set piece', 3:'Corner', 4:'Free kick'}\n",
    "    \n",
    "    # Mapping the dicts into the events dataframe\n",
    "    df_events['event_type'] =   df_events['event_type'].map(event_types)\n",
    "    df_events['event_type2'] =  df_events['event_type2'].map(event_types2)\n",
    "    df_events['side'] =         df_events['side'].map(sides)\n",
    "    df_events['shot_place'] =   df_events['shot_place'].map(shot_places)\n",
    "    df_events['shot_outcome']=  df_events['shot_outcome'].map(shot_outcomes)\n",
    "    df_events['location'] =     df_events['location'].map(locations)\n",
    "    df_events['bodypart'] =     df_events['bodypart'].map(bodyparts)\n",
    "    df_events['assist_method']= df_events['assist_method'].map(assist_methods)\n",
    "    df_events['situation'] =    df_events['situation'].map(situations)\n",
    "\n",
    "    ## Naming the leagues with their popular names, which will make thinks much clear for us\n",
    "    leagues = {'E0': 'Premier League', 'SP1': 'La Liga',\n",
    "              'I1': 'Serie A', 'F1': 'League One', 'D1': 'Bundesliga'}\n",
    "\n",
    "    ## Map them to events\n",
    "    df_game_info.league = df_game_info.league.map(leagues)\n",
    "\n",
    "    # Merge into one table (merge other dataset to have country, league, date and season)\n",
    "    df_events = df_events.merge(df_game_info ,how = 'left')\n",
    "    \n",
    "    return df_events"
   ]
  },
  {
   "cell_type": "code",
   "execution_count": 9,
   "metadata": {},
   "outputs": [],
   "source": [
    "def fill_unk(df):\n",
    "    '''\n",
    "    Fill the following categorical features in df with 'UNK':\n",
    "    shot_place, player, shot_outcome, bodypart, location and assist_method\n",
    "    '''\n",
    "    # Fill the required features with new class 'unknown'\n",
    "    df.shot_place.fillna('UNK'   ,inplace = True)\n",
    "    df.player.fillna('UNK'       ,inplace = True)\n",
    "    df.shot_outcome.fillna('UNK' ,inplace = True)\n",
    "    df.bodypart.fillna('UNK'     ,inplace = True)\n",
    "    df.location.fillna('UNK'     ,inplace = True)\n",
    "    df.assist_method.fillna('UNK',inplace = True)\n",
    "    df.situation.fillna('UNK'    ,inplace = True)\n",
    "    df.location.replace('Not recorded', 'UNK', inplace= True)"
   ]
  },
  {
   "cell_type": "code",
   "execution_count": 10,
   "metadata": {},
   "outputs": [],
   "source": [
    "def fix_dtypes(df, cats):\n",
    "    '''\n",
    "    fixes the category datatypes for cats features\n",
    "    '''\n",
    "    # Notice that a lot of the floats and ints are in fact categoricals\n",
    "    # We can fix this with Pandas' astype function\n",
    "    d = dict.fromkeys(cats,'category')\n",
    "    df = df.astype(d)\n",
    "    df['is_goal'] = df['is_goal'].astype('bool') # this is a bool\n",
    "    df['fast_break'] = df['fast_break'].astype('bool')\n",
    "    \n",
    "    df.odd_a = df.odd_a.astype('float16')\n",
    "    df.odd_d = df.odd_d.astype('float16')\n",
    "    df.odd_h = df.odd_h.astype('float16')\n",
    "    df.odd_over  = df.odd_over.astype('float16')\n",
    "    df.odd_under = df.odd_under.astype('float16')               \n",
    "    df.odd_bts   = df.odd_bts.astype('float16')\n",
    "    df.odd_bts_n = df.odd_bts_n.astype('float16')\n",
    "\n",
    "    df.ftag = df.ftag.astype('int8')\n",
    "    df.fthg = df.fthg.astype('int8')\n",
    "    df.time = df.time.astype('int8')\n",
    "    \n",
    "    df.season =     df.season.astype('category')\n",
    "    df.league =     df.league.astype('category')\n",
    "    df.country =    df.country.astype('category')\n",
    "    df.date = pd.to_datetime(df.date)\n",
    "    return df"
   ]
  },
  {
   "cell_type": "code",
   "execution_count": 11,
   "metadata": {},
   "outputs": [],
   "source": [
    "def missing_values_table(df):\n",
    "    '''\n",
    "    Function to calculate missing values by column# Funct \n",
    "    '''\n",
    "    # Total missing values\n",
    "    mis_val = df.isnull().sum()\n",
    "\n",
    "    # Percentage of missing values\n",
    "    mis_val_percent = 100 * df.isnull().sum() / len(df)\n",
    "\n",
    "    # Make a table with the results\n",
    "    mis_val_table = pd.concat([mis_val, mis_val_percent], axis=1)\n",
    "\n",
    "    # Rename the columns\n",
    "    mis_val_table_ren_columns = mis_val_table.rename(\n",
    "    columns = {0 : 'Missing Values', 1 : '% of Total Values'})\n",
    "\n",
    "    # Sort the table by percentage of missing descending\n",
    "    mis_val_table_ren_columns = mis_val_table_ren_columns[\n",
    "        mis_val_table_ren_columns.iloc[:,1] != 0].sort_values(\n",
    "    '% of Total Values', ascending=False).round(1)\n",
    "\n",
    "    # Print some summary information\n",
    "    print (\"Your selected dataframe has \" + str(df.shape[1]) + \" columns.\\n\"      \n",
    "        \"There are \" + str(mis_val_table_ren_columns.shape[0]) +\n",
    "          \" columns that have missing values.\")\n",
    "\n",
    "    # Return the dataframe with missing information\n",
    "    return mis_val_table_ren_columns"
   ]
  },
  {
   "cell_type": "code",
   "execution_count": 12,
   "metadata": {},
   "outputs": [],
   "source": [
    "def select_feats(df, feat_cols):\n",
    "    '''\n",
    "    Manually choose features (feat_cols) from a dataframe (df)\n",
    "    '''\n",
    "    return df[feat_cols]"
   ]
  },
  {
   "cell_type": "markdown",
   "metadata": {},
   "source": [
    "# Cleaning Data"
   ]
  },
  {
   "cell_type": "markdown",
   "metadata": {},
   "source": [
    "## Handling Missing Values: Fill categorical features with 'UNK'"
   ]
  },
  {
   "cell_type": "markdown",
   "metadata": {},
   "source": [
    "By substituting any null value with a new class 'UNK' in the categorical columns."
   ]
  },
  {
   "cell_type": "code",
   "execution_count": 14,
   "metadata": {},
   "outputs": [],
   "source": [
    "# Read the data sets and merge them\n",
    "df = read_merge()"
   ]
  },
  {
   "cell_type": "code",
   "execution_count": 15,
   "metadata": {},
   "outputs": [
    {
     "data": {
      "text/plain": [
       "1453"
      ]
     },
     "execution_count": 15,
     "metadata": {},
     "output_type": "execute_result"
    }
   ],
   "source": [
    "df[df.location == 'Not recorded'].location.count()"
   ]
  },
  {
   "cell_type": "code",
   "execution_count": null,
   "metadata": {},
   "outputs": [],
   "source": [
    "df"
   ]
  },
  {
   "cell_type": "code",
   "execution_count": 9,
   "metadata": {
    "collapsed": true
   },
   "outputs": [
    {
     "data": {
      "text/plain": [
       "id_odsp           object\n",
       "id_event          object\n",
       "sort_order         int64\n",
       "time               int64\n",
       "text              object\n",
       "event_type        object\n",
       "event_type2       object\n",
       "side              object\n",
       "event_team        object\n",
       "opponent          object\n",
       "player            object\n",
       "player2           object\n",
       "player_in         object\n",
       "player_out        object\n",
       "shot_place        object\n",
       "shot_outcome      object\n",
       "is_goal            int64\n",
       "location          object\n",
       "bodypart          object\n",
       "assist_method     object\n",
       "situation         object\n",
       "fast_break         int64\n",
       "link_odsp         object\n",
       "adv_stats           bool\n",
       "date              object\n",
       "league            object\n",
       "season             int64\n",
       "country           object\n",
       "ht                object\n",
       "at                object\n",
       "fthg               int64\n",
       "ftag               int64\n",
       "odd_h            float64\n",
       "odd_d            float64\n",
       "odd_a            float64\n",
       "odd_over         float64\n",
       "odd_under        float64\n",
       "odd_bts          float64\n",
       "odd_bts_n        float64\n",
       "dtype: object"
      ]
     },
     "execution_count": 9,
     "metadata": {},
     "output_type": "execute_result"
    }
   ],
   "source": [
    "df.dtypes"
   ]
  },
  {
   "cell_type": "code",
   "execution_count": 10,
   "metadata": {
    "collapsed": true
   },
   "outputs": [
    {
     "name": "stdout",
     "output_type": "stream",
     "text": [
      "Your selected dataframe has 39 columns.\n",
      "There are 15 columns that have missing values.\n"
     ]
    },
    {
     "data": {
      "text/html": [
       "<div>\n",
       "<style scoped>\n",
       "    .dataframe tbody tr th:only-of-type {\n",
       "        vertical-align: middle;\n",
       "    }\n",
       "\n",
       "    .dataframe tbody tr th {\n",
       "        vertical-align: top;\n",
       "    }\n",
       "\n",
       "    .dataframe thead th {\n",
       "        text-align: right;\n",
       "    }\n",
       "</style>\n",
       "<table border=\"1\" class=\"dataframe\">\n",
       "  <thead>\n",
       "    <tr style=\"text-align: right;\">\n",
       "      <th></th>\n",
       "      <th>Missing Values</th>\n",
       "      <th>% of Total Values</th>\n",
       "    </tr>\n",
       "  </thead>\n",
       "  <tbody>\n",
       "    <tr>\n",
       "      <th>player_in</th>\n",
       "      <td>889294</td>\n",
       "      <td>94.5</td>\n",
       "    </tr>\n",
       "    <tr>\n",
       "      <th>player_out</th>\n",
       "      <td>889271</td>\n",
       "      <td>94.5</td>\n",
       "    </tr>\n",
       "    <tr>\n",
       "      <th>odd_over</th>\n",
       "      <td>842329</td>\n",
       "      <td>89.5</td>\n",
       "    </tr>\n",
       "    <tr>\n",
       "      <th>odd_under</th>\n",
       "      <td>842329</td>\n",
       "      <td>89.5</td>\n",
       "    </tr>\n",
       "    <tr>\n",
       "      <th>odd_bts</th>\n",
       "      <td>842329</td>\n",
       "      <td>89.5</td>\n",
       "    </tr>\n",
       "    <tr>\n",
       "      <th>odd_bts_n</th>\n",
       "      <td>842329</td>\n",
       "      <td>89.5</td>\n",
       "    </tr>\n",
       "    <tr>\n",
       "      <th>assist_method</th>\n",
       "      <td>773104</td>\n",
       "      <td>82.2</td>\n",
       "    </tr>\n",
       "    <tr>\n",
       "      <th>event_type2</th>\n",
       "      <td>726716</td>\n",
       "      <td>77.2</td>\n",
       "    </tr>\n",
       "    <tr>\n",
       "      <th>shot_place</th>\n",
       "      <td>713550</td>\n",
       "      <td>75.8</td>\n",
       "    </tr>\n",
       "    <tr>\n",
       "      <th>shot_outcome</th>\n",
       "      <td>712511</td>\n",
       "      <td>75.7</td>\n",
       "    </tr>\n",
       "    <tr>\n",
       "      <th>situation</th>\n",
       "      <td>711872</td>\n",
       "      <td>75.6</td>\n",
       "    </tr>\n",
       "    <tr>\n",
       "      <th>bodypart</th>\n",
       "      <td>711824</td>\n",
       "      <td>75.6</td>\n",
       "    </tr>\n",
       "    <tr>\n",
       "      <th>player2</th>\n",
       "      <td>649699</td>\n",
       "      <td>69.0</td>\n",
       "    </tr>\n",
       "    <tr>\n",
       "      <th>location</th>\n",
       "      <td>473942</td>\n",
       "      <td>50.4</td>\n",
       "    </tr>\n",
       "    <tr>\n",
       "      <th>player</th>\n",
       "      <td>61000</td>\n",
       "      <td>6.5</td>\n",
       "    </tr>\n",
       "  </tbody>\n",
       "</table>\n",
       "</div>"
      ],
      "text/plain": [
       "               Missing Values  % of Total Values\n",
       "player_in              889294               94.5\n",
       "player_out             889271               94.5\n",
       "odd_over               842329               89.5\n",
       "odd_under              842329               89.5\n",
       "odd_bts                842329               89.5\n",
       "odd_bts_n              842329               89.5\n",
       "assist_method          773104               82.2\n",
       "event_type2            726716               77.2\n",
       "shot_place             713550               75.8\n",
       "shot_outcome           712511               75.7\n",
       "situation              711872               75.6\n",
       "bodypart               711824               75.6\n",
       "player2                649699               69.0\n",
       "location               473942               50.4\n",
       "player                  61000                6.5"
      ]
     },
     "execution_count": 10,
     "metadata": {},
     "output_type": "execute_result"
    }
   ],
   "source": [
    "# check the missing values in each feature\n",
    "missing_values_table(df)"
   ]
  },
  {
   "cell_type": "markdown",
   "metadata": {},
   "source": [
    "**We have large proportion of missing data values in important features as following**: <br>\n",
    "`1` 82.2% missing in assist_method. <br>\n",
    "`2` 75.8% missing in shot_place.  <br>\n",
    "`3` 75.7% missing in shot_outcome. <br>\n",
    "`4` 75.6% missing in situation. <br>\n",
    "`5` 75.6% missing in bodypart. <br>\n",
    "`6` 50.4% missing in location. <br>"
   ]
  },
  {
   "cell_type": "code",
   "execution_count": 16,
   "metadata": {},
   "outputs": [],
   "source": [
    "df = read_merge()\n",
    "\n",
    "# Fill the null values with a new category 'UNK' for 'Unknown' for the manually chosen features\n",
    "fill_unk(df)\n",
    "\n",
    "# Fix the datatypes of some categorical columns\n",
    "categoricals = ['id_odsp', 'event_type', 'event_team', 'opponent', 'shot_place', 'shot_outcome', 'location', 'bodypart', 'assist_method', 'situation', 'side', 'player']\n",
    "df = fix_dtypes(df, categoricals)"
   ]
  },
  {
   "cell_type": "code",
   "execution_count": 12,
   "metadata": {
    "collapsed": true
   },
   "outputs": [
    {
     "name": "stdout",
     "output_type": "stream",
     "text": [
      "Your selected dataframe has 39 columns.\n",
      "There are 8 columns that have missing values.\n"
     ]
    },
    {
     "data": {
      "text/html": [
       "<div>\n",
       "<style scoped>\n",
       "    .dataframe tbody tr th:only-of-type {\n",
       "        vertical-align: middle;\n",
       "    }\n",
       "\n",
       "    .dataframe tbody tr th {\n",
       "        vertical-align: top;\n",
       "    }\n",
       "\n",
       "    .dataframe thead th {\n",
       "        text-align: right;\n",
       "    }\n",
       "</style>\n",
       "<table border=\"1\" class=\"dataframe\">\n",
       "  <thead>\n",
       "    <tr style=\"text-align: right;\">\n",
       "      <th></th>\n",
       "      <th>Missing Values</th>\n",
       "      <th>% of Total Values</th>\n",
       "    </tr>\n",
       "  </thead>\n",
       "  <tbody>\n",
       "    <tr>\n",
       "      <th>player_in</th>\n",
       "      <td>889294</td>\n",
       "      <td>94.5</td>\n",
       "    </tr>\n",
       "    <tr>\n",
       "      <th>player_out</th>\n",
       "      <td>889271</td>\n",
       "      <td>94.5</td>\n",
       "    </tr>\n",
       "    <tr>\n",
       "      <th>odd_over</th>\n",
       "      <td>842329</td>\n",
       "      <td>89.5</td>\n",
       "    </tr>\n",
       "    <tr>\n",
       "      <th>odd_under</th>\n",
       "      <td>842329</td>\n",
       "      <td>89.5</td>\n",
       "    </tr>\n",
       "    <tr>\n",
       "      <th>odd_bts</th>\n",
       "      <td>842329</td>\n",
       "      <td>89.5</td>\n",
       "    </tr>\n",
       "    <tr>\n",
       "      <th>odd_bts_n</th>\n",
       "      <td>842329</td>\n",
       "      <td>89.5</td>\n",
       "    </tr>\n",
       "    <tr>\n",
       "      <th>event_type2</th>\n",
       "      <td>726716</td>\n",
       "      <td>77.2</td>\n",
       "    </tr>\n",
       "    <tr>\n",
       "      <th>player2</th>\n",
       "      <td>649699</td>\n",
       "      <td>69.0</td>\n",
       "    </tr>\n",
       "  </tbody>\n",
       "</table>\n",
       "</div>"
      ],
      "text/plain": [
       "             Missing Values  % of Total Values\n",
       "player_in            889294               94.5\n",
       "player_out           889271               94.5\n",
       "odd_over             842329               89.5\n",
       "odd_under            842329               89.5\n",
       "odd_bts              842329               89.5\n",
       "odd_bts_n            842329               89.5\n",
       "event_type2          726716               77.2\n",
       "player2              649699               69.0"
      ]
     },
     "execution_count": 12,
     "metadata": {},
     "output_type": "execute_result"
    }
   ],
   "source": [
    "# check the missing values in each feature\n",
    "missing_values_table(df)"
   ]
  },
  {
   "cell_type": "markdown",
   "metadata": {},
   "source": [
    "# Automatic Feature selection"
   ]
  },
  {
   "cell_type": "code",
   "execution_count": 74,
   "metadata": {},
   "outputs": [
    {
     "data": {
      "text/plain": [
       "(94101,)"
      ]
     },
     "execution_count": 74,
     "metadata": {},
     "output_type": "execute_result"
    }
   ],
   "source": [
    "y_pred.shape"
   ]
  },
  {
   "cell_type": "code",
   "execution_count": 79,
   "metadata": {},
   "outputs": [
    {
     "name": "stdout",
     "output_type": "stream",
     "text": [
      "x_train shape Before:  (846908, 53)\n",
      "x_train shape After:  (846908, 3)\n",
      "Accuracy:  0.9737516073155439\n",
      "Balanced Acc:  0.5\n"
     ]
    }
   ],
   "source": [
    "\n",
    "x_train, x_test, y_train, y_test = train_test_split(pd.get_dummies(df_feats.drop(['is_goal'], axis=1)),\n",
    "                                                  df_feats.is_goal.values,\n",
    "                                                  test_size = .1,\n",
    "                                                  random_state=12)\n",
    "\n",
    "pca = PCA(.95)\n",
    "pca.fit(x_train)\n",
    "\n",
    "print('x_train shape Before: ', x_train.shape)\n",
    "x_train = pca.transform(x_train)\n",
    "x_test = pca.transform(x_test)\n",
    "print('x_train shape After: ', x_train.shape)\n",
    "\n",
    "\n",
    "logisticRegr = LogisticRegression(solver = 'lbfgs')\n",
    "logisticRegr.fit(x_train, y_train)\n",
    "y_pred = logisticRegr.predict(x_test)\n",
    "\n",
    "print('Accuracy: ', metrics.accuracy_score(y_test.reshape(-1,1), y_pred.reshape(-1,1)))\n",
    "print('Balanced Acc: ', metrics.balanced_accuracy_score(y_test.reshape(-1,1), y_pred.reshape(-1,1)))\n",
    "\n"
   ]
  },
  {
   "cell_type": "code",
   "execution_count": 80,
   "metadata": {},
   "outputs": [
    {
     "name": "stdout",
     "output_type": "stream",
     "text": [
      "[2.320e+01 4.050e+02 1.728e+03 5.089e+00 1.474e+04 2.123e+03 1.221e+04\n",
      " 1.601e+04 7.617e+03 1.439e+03 4.502e+04 3.338e+03 3.359e-01 2.786e+02\n",
      " 2.438e+02 1.136e+03 4.354e+03 7.913e+02 8.524e+00 1.610e+01 1.085e+00\n",
      " 6.246e+00 5.621e+04 1.351e+03 4.335e+03 7.777e+02 9.890e+03 5.939e+04\n",
      " 1.590e+02 1.475e+02 1.621e+02 1.442e+03 9.825e+04 8.756e+04 2.269e+04\n",
      " 4.243e+02 9.535e+01 7.208e+02 6.725e+02 4.214e+02 1.441e+02 2.304e+04\n",
      " 2.490e+04 1.575e+04 1.099e+04 2.590e+03 3.073e+04 3.813e+04 1.898e+04\n",
      " 1.898e+04 1.198e+04 1.334e+04 3.427e+04]\n",
      "<class 'numpy.ndarray'>\n"
     ]
    }
   ],
   "source": [
    "X = pd.get_dummies(df_feats.drop(['is_goal'], axis=1))\n",
    "Y = df_feats.is_goal.values\n",
    "# feature extraction\n",
    "test = SelectKBest(score_func=chi2, k=4)\n",
    "fit = test.fit(X, Y)\n",
    "# summarize scores\n",
    "numpy.set_printoptions(precision=3)\n",
    "print(fit.scores_)\n",
    "features = fit.transform(X)\n",
    "# summarize selected features\n",
    "print(type(features))"
   ]
  },
  {
   "cell_type": "code",
   "execution_count": 82,
   "metadata": {},
   "outputs": [
    {
     "name": "stdout",
     "output_type": "stream",
     "text": [
      "Num Features: %d\n"
     ]
    },
    {
     "ename": "TypeError",
     "evalue": "unsupported operand type(s) for %: 'NoneType' and 'int'",
     "output_type": "error",
     "traceback": [
      "\u001b[0;31m---------------------------------------------------------------------------\u001b[0m",
      "\u001b[0;31mTypeError\u001b[0m                                 Traceback (most recent call last)",
      "\u001b[0;32m<ipython-input-82-bd6cff661985>\u001b[0m in \u001b[0;36m<module>\u001b[0;34m\u001b[0m\n\u001b[1;32m     12\u001b[0m \u001b[0mrfe\u001b[0m \u001b[0;34m=\u001b[0m \u001b[0mRFE\u001b[0m\u001b[0;34m(\u001b[0m\u001b[0mmodel\u001b[0m\u001b[0;34m,\u001b[0m \u001b[0;36m3\u001b[0m\u001b[0;34m)\u001b[0m\u001b[0;34m\u001b[0m\u001b[0;34m\u001b[0m\u001b[0m\n\u001b[1;32m     13\u001b[0m \u001b[0mfit\u001b[0m \u001b[0;34m=\u001b[0m \u001b[0mrfe\u001b[0m\u001b[0;34m.\u001b[0m\u001b[0mfit\u001b[0m\u001b[0;34m(\u001b[0m\u001b[0mX\u001b[0m\u001b[0;34m,\u001b[0m \u001b[0mY\u001b[0m\u001b[0;34m)\u001b[0m\u001b[0;34m\u001b[0m\u001b[0;34m\u001b[0m\u001b[0m\n\u001b[0;32m---> 14\u001b[0;31m \u001b[0mprint\u001b[0m\u001b[0;34m(\u001b[0m\u001b[0;34m\"Num Features: %d\"\u001b[0m\u001b[0;34m)\u001b[0m \u001b[0;34m%\u001b[0m \u001b[0mfit\u001b[0m\u001b[0;34m.\u001b[0m\u001b[0mn_features_\u001b[0m\u001b[0;34m\u001b[0m\u001b[0;34m\u001b[0m\u001b[0m\n\u001b[0m\u001b[1;32m     15\u001b[0m \u001b[0mprint\u001b[0m\u001b[0;34m(\u001b[0m\u001b[0;34m\"Selected Features: %s\"\u001b[0m\u001b[0;34m)\u001b[0m \u001b[0;34m%\u001b[0m \u001b[0mfit\u001b[0m\u001b[0;34m.\u001b[0m\u001b[0msupport_\u001b[0m\u001b[0;34m\u001b[0m\u001b[0;34m\u001b[0m\u001b[0m\n\u001b[1;32m     16\u001b[0m \u001b[0mprint\u001b[0m\u001b[0;34m(\u001b[0m\u001b[0;34m\"Feature Ranking: %s\"\u001b[0m\u001b[0;34m)\u001b[0m \u001b[0;34m%\u001b[0m \u001b[0mfit\u001b[0m\u001b[0;34m.\u001b[0m\u001b[0mranking_\u001b[0m\u001b[0;34m\u001b[0m\u001b[0;34m\u001b[0m\u001b[0m\n",
      "\u001b[0;31mTypeError\u001b[0m: unsupported operand type(s) for %: 'NoneType' and 'int'"
     ]
    }
   ],
   "source": [
    "from sklearn.feature_selection import RFE\n",
    "from sklearn.linear_model import LogisticRegression\n",
    "# # load data\n",
    "# url = \"https://raw.githubusercontent.com/jbrownlee/Datasets/master/pima-indians-diabetes.data.csv\"\n",
    "# names = ['preg', 'plas', 'pres', 'skin', 'test', 'mass', 'pedi', 'age', 'class']\n",
    "# dataframe = read_csv(url, names=names)\n",
    "# array = dataframe.values\n",
    "# X = array[:,0:8]\n",
    "# Y = array[:,8]\n",
    "# feature extraction\n",
    "model = LogisticRegression()\n",
    "rfe = RFE(model, 3)\n",
    "fit = rfe.fit(X, Y)\n",
    "print(\"Num Features: %d\") % fit.n_features_\n",
    "print(\"Selected Features: %s\") % fit.support_\n",
    "print(\"Feature Ranking: %s\") % fit.ranking_"
   ]
  },
  {
   "cell_type": "code",
   "execution_count": 92,
   "metadata": {},
   "outputs": [
    {
     "name": "stdout",
     "output_type": "stream",
     "text": [
      "[51 48 50 44 32 31 34 42 33 45 22 43 27 36 35 37 23 46 24 28 29 30 39 38\n",
      " 21 47  7 18 19 20 14  8  2  3  6 11 16  9 10 12 17  5  4  1 13 41 49 15\n",
      "  1  1 40 26 25]\n"
     ]
    },
    {
     "data": {
      "text/plain": [
       "Index(['bodypart_left foot', 'situation_UNK', 'bodypart_head', 'situation_Corner', 'shot_place_Bottom left corner', 'shot_place_Blocked', 'shot_place_Centre of the goal', 'shot_place_Top right corner', 'shot_place_Bottom right corner', 'situation_Free kick', 'location_Penalty spot', 'shot_place_UNK', 'location_Very close range', 'shot_place_Hits the bar', 'shot_place_High and wide', 'shot_place_Misses to the left', 'location_Right side of the box', 'situation_Open play',\n",
       "       'location_Right side of the six yard box', 'side_Away', 'side_Home', 'shot_place_Bit too high', 'shot_place_Too high', 'shot_place_Misses to the right', 'location_Outside the box', 'situation_Set piece', 'assist_method_Through ball', 'location_Long range', 'location_More than 35 yards', 'location_More than 40 yards', 'location_Difficult angle on the right', 'assist_method_UNK', 'odd_a', 'first_half', 'assist_method_Pass', 'location_Defensive half',\n",
       "       'location_Left side of the six yard box', 'location_Attacking half', 'location_Centre of the box', 'location_Difficult angle and long range', 'location_Left wing', 'assist_method_Headed pass', 'assist_method_Cross', 'odd_d', 'location_Difficult angle on the left', 'shot_place_Top left corner', 'bodypart_UNK', 'location_Left side of the box', 'odd_d', 'odd_d', 'shot_place_Top centre of the goal', 'location_UNK', 'location_Right wing'],\n",
       "      dtype='object')"
      ]
     },
     "execution_count": 92,
     "metadata": {},
     "output_type": "execute_result"
    }
   ],
   "source": [
    "print(fit.ranking_)\n",
    "X.columns[fit.ranking_]"
   ]
  },
  {
   "cell_type": "code",
   "execution_count": 31,
   "metadata": {},
   "outputs": [
    {
     "name": "stdout",
     "output_type": "stream",
     "text": [
      "<class 'pandas.core.frame.DataFrame'>\n",
      "RangeIndex: 768 entries, 0 to 767\n",
      "Data columns (total 9 columns):\n",
      "preg     768 non-null int64\n",
      "plas     768 non-null int64\n",
      "pres     768 non-null int64\n",
      "skin     768 non-null int64\n",
      "test     768 non-null int64\n",
      "mass     768 non-null float64\n",
      "pedi     768 non-null float64\n",
      "age      768 non-null int64\n",
      "class    768 non-null int64\n",
      "dtypes: float64(2), int64(7)\n",
      "memory usage: 54.1 KB\n"
     ]
    }
   ],
   "source": [
    "import pandas\n",
    "import numpy\n",
    "from sklearn.feature_selection import SelectKBest\n",
    "from sklearn.feature_selection import chi2\n",
    "# load data\n",
    "url = \"https://raw.githubusercontent.com/jbrownlee/Datasets/master/pima-indians-diabetes.data.csv\"\n",
    "names = ['preg', 'plas', 'pres', 'skin', 'test', 'mass', 'pedi', 'age', 'class']\n",
    "dataframe = pandas.read_csv(url, names=names)\n",
    "\n",
    "dataframe.info()\n"
   ]
  },
  {
   "cell_type": "code",
   "execution_count": 33,
   "metadata": {},
   "outputs": [
    {
     "name": "stdout",
     "output_type": "stream",
     "text": [
      "<class 'numpy.ndarray'>\n",
      "[ 111.52  1411.887   17.605   53.108 2175.565  127.669    5.393  181.304]\n",
      "[[148.    0.   33.6  50. ]\n",
      " [ 85.    0.   26.6  31. ]\n",
      " [183.    0.   23.3  32. ]\n",
      " [ 89.   94.   28.1  21. ]\n",
      " [137.  168.   43.1  33. ]]\n"
     ]
    }
   ],
   "source": [
    "array = dataframe.values\n",
    "X = array[:,0:8]\n",
    "Y = array[:,8]\n",
    "# feature extraction\n",
    "test = SelectKBest(score_func=chi2, k=4)\n",
    "fit = test.fit(X, Y)\n",
    "# summarize scores\n",
    "numpy.set_printoptions(precision=3)\n",
    "print(fit.scores_)\n",
    "features = fit.transform(X)\n",
    "# summarize selected features\n",
    "print(features[0:5,:])"
   ]
  },
  {
   "cell_type": "markdown",
   "metadata": {},
   "source": [
    "# Manual Feature Selection"
   ]
  },
  {
   "cell_type": "code",
   "execution_count": 17,
   "metadata": {},
   "outputs": [],
   "source": [
    "feat_cols = ['odd_h', 'odd_d', 'odd_a', \n",
    "             'assist_method', 'location', \n",
    "             'side', 'shot_place', 'situation', \n",
    "             'bodypart', 'time', 'is_goal']\n",
    "\n",
    "df_feats = select_feats(df, feat_cols)\n",
    "\n"
   ]
  },
  {
   "cell_type": "code",
   "execution_count": 18,
   "metadata": {},
   "outputs": [
    {
     "name": "stdout",
     "output_type": "stream",
     "text": [
      "<class 'pandas.core.frame.DataFrame'>\n",
      "Int64Index: 941009 entries, 0 to 941008\n",
      "Data columns (total 10 columns):\n",
      "odd_h            941009 non-null float16\n",
      "odd_d            941009 non-null float16\n",
      "odd_a            941009 non-null float16\n",
      "assist_method    941009 non-null category\n",
      "location         941009 non-null category\n",
      "side             941009 non-null category\n",
      "shot_place       941009 non-null category\n",
      "situation        941009 non-null category\n",
      "bodypart         941009 non-null category\n",
      "first_half       941009 non-null bool\n",
      "dtypes: bool(1), category(6), float16(3)\n",
      "memory usage: 18.8 MB\n"
     ]
    }
   ],
   "source": [
    "df_feats['first_half'] = df_feats.time <= 45\n",
    "df_feats.first_half = df_feats.first_half.astype('bool')\n",
    "df_feats.drop(['time'], axis = 1, inplace =True)\n",
    "df_feats.drop(['is_goal'], axis=1).info()"
   ]
  },
  {
   "cell_type": "code",
   "execution_count": 19,
   "metadata": {},
   "outputs": [],
   "source": [
    "# Final chosen/engineered features with the dependent variable 'is_goal'\n",
    "features = ['odd_h', 'odd_d', 'odd_a', \n",
    "             'assist_method', 'location', \n",
    "             'side', 'shot_place', 'situation', \n",
    "             'bodypart', 'first_half', 'is_goal']"
   ]
  },
  {
   "cell_type": "markdown",
   "metadata": {},
   "source": [
    "# Explore the Data"
   ]
  },
  {
   "cell_type": "markdown",
   "metadata": {},
   "source": [
    "We need to know how some features might affect 'is_goal'"
   ]
  },
  {
   "cell_type": "code",
   "execution_count": 17,
   "metadata": {},
   "outputs": [
    {
     "data": {
      "text/plain": [
       "first_half   -0.003133\n",
       "odd_h         0.003646\n",
       "odd_a         0.017853\n",
       "odd_d         0.023307\n",
       "is_goal       1.000000\n",
       "Name: is_goal, dtype: float64"
      ]
     },
     "execution_count": 17,
     "metadata": {},
     "output_type": "execute_result"
    }
   ],
   "source": [
    "# Find correlations with the is_goal \n",
    "correlations = df_feats.corr()['is_goal'].sort_values()\n",
    "correlations"
   ]
  },
  {
   "cell_type": "code",
   "execution_count": 53,
   "metadata": {},
   "outputs": [
    {
     "data": {
      "image/png": "[encoded data removed]",
      "text/plain": [
       "<Figure size 432x288 with 1 Axes>"
      ]
     },
     "metadata": {
      "needs_background": "light"
     },
     "output_type": "display_data"
    }
   ],
   "source": [
    "sit_plt = sns.barplot(df_feats.situation, df_feats.is_goal);\n",
    "sit_plt.figure.savefig('../figures/sit_plt.pdf', format='pdf')"
   ]
  },
  {
   "cell_type": "code",
   "execution_count": 54,
   "metadata": {},
   "outputs": [
    {
     "data": {
      "image/png": "[encoded data removed]",
      "text/plain": [
       "<Figure size 432x288 with 1 Axes>"
      ]
     },
     "metadata": {
      "needs_background": "light"
     },
     "output_type": "display_data"
    }
   ],
   "source": [
    "assist_plt = sns.barplot(df_feats.assist_method, df_feats.is_goal);\n",
    "assist_plt.figure.savefig('../figures/assist_plt.pdf', format='pdf')"
   ]
  },
  {
   "cell_type": "code",
   "execution_count": 63,
   "metadata": {},
   "outputs": [
    {
     "data": {
      "image/png": "[encoded data removed]",
      "text/plain": [
       "<Figure size 432x288 with 1 Axes>"
      ]
     },
     "metadata": {
      "needs_background": "light"
     },
     "output_type": "display_data"
    }
   ],
   "source": [
    "ax = sns.barplot(df_feats.location, df_feats.is_goal );\n",
    "plt.xticks(rotation=90);\n",
    "ax.figure.savefig('../figures/location_plt.pdf', format='pdf', bbox_inches=\"tight\")"
   ]
  },
  {
   "cell_type": "code",
   "execution_count": 56,
   "metadata": {},
   "outputs": [
    {
     "data": {
      "image/png": "[encoded data removed]",
      "text/plain": [
       "<Figure size 432x288 with 1 Axes>"
      ]
     },
     "metadata": {
      "needs_background": "light"
     },
     "output_type": "display_data"
    }
   ],
   "source": [
    "side_plt = sns.barplot(df_feats.side, df_feats.is_goal);\n",
    "side_plt.figure.savefig('../figures/side_plt.pdf', format='pdf')"
   ]
  },
  {
   "cell_type": "code",
   "execution_count": 62,
   "metadata": {},
   "outputs": [
    {
     "data": {
      "image/png": "[encoded data removed]",
      "text/plain": [
       "<Figure size 432x288 with 1 Axes>"
      ]
     },
     "metadata": {
      "needs_background": "light"
     },
     "output_type": "display_data"
    }
   ],
   "source": [
    "shot_place = sns.barplot(df_feats.shot_place, df_feats.is_goal);\n",
    "plt.xticks(rotation=90);\n",
    "shot_place.figure.savefig('../figures/shot_place.pdf', format='pdf', bbox_inches=\"tight\")"
   ]
  },
  {
   "cell_type": "code",
   "execution_count": 58,
   "metadata": {},
   "outputs": [
    {
     "data": {
      "image/png": "[encoded data removed]",
      "text/plain": [
       "<Figure size 432x288 with 1 Axes>"
      ]
     },
     "metadata": {
      "needs_background": "light"
     },
     "output_type": "display_data"
    }
   ],
   "source": [
    "first_half_plt = sns.barplot(df_feats.first_half, df_feats.is_goal);\n",
    "first_half_plt.figure.savefig('../figures/first_half_plt.pdf', format='pdf')"
   ]
  },
  {
   "cell_type": "code",
   "execution_count": 59,
   "metadata": {},
   "outputs": [
    {
     "data": {
      "image/png": "[encoded data removed]",
      "text/plain": [
       "<Figure size 432x288 with 1 Axes>"
      ]
     },
     "metadata": {
      "needs_background": "light"
     },
     "output_type": "display_data"
    }
   ],
   "source": [
    "bodypart_plt = sns.barplot(df_feats.bodypart, df_feats.is_goal);\n",
    "bodypart_plt.figure.savefig('../figures/bodypart_plt.pdf', format='pdf')"
   ]
  },
  {
   "cell_type": "code",
   "execution_count": 26,
   "metadata": {},
   "outputs": [
    {
     "data": {
      "text/html": [
       "<div>\n",
       "<style scoped>\n",
       "    .dataframe tbody tr th:only-of-type {\n",
       "        vertical-align: middle;\n",
       "    }\n",
       "\n",
       "    .dataframe tbody tr th {\n",
       "        vertical-align: top;\n",
       "    }\n",
       "\n",
       "    .dataframe thead th {\n",
       "        text-align: right;\n",
       "    }\n",
       "</style>\n",
       "<table border=\"1\" class=\"dataframe\">\n",
       "  <thead>\n",
       "    <tr style=\"text-align: right;\">\n",
       "      <th></th>\n",
       "      <th>bodypart</th>\n",
       "      <th>is_goal</th>\n",
       "      <th>Count</th>\n",
       "    </tr>\n",
       "  </thead>\n",
       "  <tbody>\n",
       "    <tr>\n",
       "      <th>0</th>\n",
       "      <td>left foot</td>\n",
       "      <td>False</td>\n",
       "      <td>64532</td>\n",
       "    </tr>\n",
       "    <tr>\n",
       "      <th>1</th>\n",
       "      <td>UNK</td>\n",
       "      <td>False</td>\n",
       "      <td>711823</td>\n",
       "    </tr>\n",
       "    <tr>\n",
       "      <th>2</th>\n",
       "      <td>right foot</td>\n",
       "      <td>False</td>\n",
       "      <td>108488</td>\n",
       "    </tr>\n",
       "    <tr>\n",
       "      <th>3</th>\n",
       "      <td>left foot</td>\n",
       "      <td>True</td>\n",
       "      <td>6758</td>\n",
       "    </tr>\n",
       "    <tr>\n",
       "      <th>4</th>\n",
       "      <td>head</td>\n",
       "      <td>False</td>\n",
       "      <td>31720</td>\n",
       "    </tr>\n",
       "    <tr>\n",
       "      <th>5</th>\n",
       "      <td>right foot</td>\n",
       "      <td>True</td>\n",
       "      <td>13451</td>\n",
       "    </tr>\n",
       "    <tr>\n",
       "      <th>6</th>\n",
       "      <td>head</td>\n",
       "      <td>True</td>\n",
       "      <td>4236</td>\n",
       "    </tr>\n",
       "    <tr>\n",
       "      <th>7</th>\n",
       "      <td>UNK</td>\n",
       "      <td>True</td>\n",
       "      <td>1</td>\n",
       "    </tr>\n",
       "  </tbody>\n",
       "</table>\n",
       "</div>"
      ],
      "text/plain": [
       "     bodypart  is_goal   Count\n",
       "0   left foot    False   64532\n",
       "1         UNK    False  711823\n",
       "2  right foot    False  108488\n",
       "3   left foot     True    6758\n",
       "4        head    False   31720\n",
       "5  right foot     True   13451\n",
       "6        head     True    4236\n",
       "7         UNK     True       1"
      ]
     },
     "execution_count": 26,
     "metadata": {},
     "output_type": "execute_result"
    }
   ],
   "source": [
    "df_feats.groupby(['bodypart', 'is_goal'], sort=False).size().reset_index(name='Count')"
   ]
  },
  {
   "cell_type": "markdown",
   "metadata": {},
   "source": [
    "# Without handling class imbalance"
   ]
  },
  {
   "cell_type": "markdown",
   "metadata": {},
   "source": [
    "## Logistic Regression"
   ]
  },
  {
   "cell_type": "code",
   "execution_count": 25,
   "metadata": {},
   "outputs": [
    {
     "name": "stdout",
     "output_type": "stream",
     "text": [
      "Number of features after one-hot encoding:  941009\n",
      "Accuracy:  0.9841659493522917\n",
      "Balanced Acc:  0.8037608442451609\n"
     ]
    }
   ],
   "source": [
    "x_train, x_val, y_train, y_val = train_test_split(pd.get_dummies(df_feats.drop(['is_goal'], axis=1)),\n",
    "                                                  df_feats.is_goal.values,\n",
    "                                                  test_size = .1,\n",
    "                                                  random_state=12)\n",
    "print('Number of features after one-hot encoding: ', len(pd.get_dummies(df_feats.drop(['is_goal'], axis=1))))\n",
    "\n",
    "model = LogisticRegression()\n",
    "model.fit(x_train, y_train)\n",
    "\n",
    "# make predictions\n",
    "expected = y_val\n",
    "predicted = model.predict(x_val)\n",
    "\n",
    "print('Accuracy: ', metrics.accuracy_score(expected, predicted))\n",
    "print('Balanced Acc: ', metrics.balanced_accuracy_score(expected, predicted))"
   ]
  },
  {
   "cell_type": "markdown",
   "metadata": {},
   "source": [
    "## Gradient Boosting model"
   ]
  },
  {
   "cell_type": "code",
   "execution_count": 104,
   "metadata": {
    "scrolled": true
   },
   "outputs": [
    {
     "name": "stdout",
     "output_type": "stream",
     "text": [
      "              precision    recall  f1-score   support\n",
      "\n",
      "       False       0.99      1.00      0.99     91631\n",
      "        True       0.80      0.52      0.63      2470\n",
      "\n",
      "   micro avg       0.98      0.98      0.98     94101\n",
      "   macro avg       0.89      0.76      0.81     94101\n",
      "weighted avg       0.98      0.98      0.98     94101\n",
      "\n",
      "[[91306   325]\n",
      " [ 1188  1282]]\n",
      "Accuracy:  0.983921531120817\n",
      "Balanced Acc:  0.7577407527472118\n"
     ]
    }
   ],
   "source": [
    "\n",
    "# Create the model\n",
    "gradient_boosted = GradientBoostingClassifier()\n",
    "\n",
    "# Fit the model on the training data\n",
    "gradient_boosted.fit(x_train, y_train)\n",
    "\n",
    "# Make predictions on the test data\n",
    "predictions = gradient_boosted.predict(x_val)\n",
    "\n",
    "# summarize the fit of the model\n",
    "print(metrics.classification_report(y_val, predictions))\n",
    "print(metrics.confusion_matrix(y_val, predictions))\n",
    "\n",
    "# Evaluate the model\n",
    "print('Accuracy: ', metrics.accuracy_score(y_val, predictions))\n",
    "print('Balanced Acc: ', metrics.balanced_accuracy_score(y_val, predictions))"
   ]
  },
  {
   "cell_type": "markdown",
   "metadata": {},
   "source": [
    "## Support Vector Machine"
   ]
  },
  {
   "cell_type": "code",
   "execution_count": null,
   "metadata": {
    "scrolled": true
   },
   "outputs": [],
   "source": [
    "# # Create the model\n",
    "# svm = SVC()\n",
    "\n",
    "# # Fit the model on the training data\n",
    "# svm.fit(x_train, y_train)\n",
    "\n",
    "# # Make predictions on the test data\n",
    "# predictions = svm.predict(x_val)\n",
    "\n",
    "# # summarize the fit of the model\n",
    "# print(metrics.classification_report(y_val, predictions))\n",
    "# print(metrics.confusion_matrix(y_val, predictions))\n",
    "\n",
    "# # Evaluate the model\n",
    "# print('Accuracy: ', metrics.accuracy_score(y_val, predictions))\n",
    "# print('Balanced Acc: ', metrics.balanced_accuracy_score(y_val, predictions))"
   ]
  },
  {
   "cell_type": "markdown",
   "metadata": {},
   "source": [
    "## Random Forest"
   ]
  },
  {
   "cell_type": "code",
   "execution_count": 52,
   "metadata": {},
   "outputs": [],
   "source": [
    "def plot_feature_importances(df):\n",
    "    \"\"\"\n",
    "    Plot importances returned by a model. This can work with any measure of\n",
    "    feature importance provided that higher importance is better. \n",
    "    \n",
    "    Args:\n",
    "        df (dataframe): feature importances. Must have the features in a column\n",
    "        called `features` and the importances in a column called `importance\n",
    "        \n",
    "    Returns:\n",
    "        shows a plot of the 15 most importance features\n",
    "        \n",
    "        df (dataframe): feature importances sorted by importance (highest to lowest) \n",
    "        with a column for normalized importance\n",
    "        \"\"\"\n",
    "    \n",
    "    # Sort features according to importance\n",
    "    df = df.sort_values('importance', ascending = False).reset_index()\n",
    "    \n",
    "    # Normalize the feature importances to add up to one\n",
    "    df['importance_normalized'] = df['importance'] / df['importance'].sum()\n",
    "\n",
    "    # Make a horizontal bar chart of feature importances\n",
    "    plt.figure(figsize = (10, 6))\n",
    "    ax = plt.subplot()\n",
    "    \n",
    "    # Need to reverse the index to plot most important on top\n",
    "    ax.barh(list(reversed(list(df.index[:15]))), \n",
    "            df['importance_normalized'].head(15), \n",
    "            align = 'center', edgecolor = 'k')\n",
    "    \n",
    "    # Set the yticks and labels\n",
    "    ax.set_yticks(list(reversed(list(df.index[:15]))))\n",
    "    ax.set_yticklabels(df['feature'].head(15))\n",
    "    \n",
    "    # Plot labeling\n",
    "    plt.xlabel('Normalized Importance'); plt.title('Feature Importances')\n",
    "    plt.show()\n",
    "    ax.figure.savefig('../figures/feats_imp.pdf', format='pdf', bbox_inches=\"tight\")\n",
    "    \n",
    "    return df"
   ]
  },
  {
   "cell_type": "code",
   "execution_count": 35,
   "metadata": {},
   "outputs": [
    {
     "name": "stderr",
     "output_type": "stream",
     "text": [
      "[Parallel(n_jobs=-1)]: Using backend ThreadingBackend with 8 concurrent workers.\n",
      "[Parallel(n_jobs=-1)]: Done  34 tasks      | elapsed:    8.7s\n",
      "[Parallel(n_jobs=-1)]: Done 100 out of 100 | elapsed:   21.9s finished\n",
      "[Parallel(n_jobs=8)]: Using backend ThreadingBackend with 8 concurrent workers.\n",
      "[Parallel(n_jobs=8)]: Done  34 tasks      | elapsed:    0.1s\n",
      "[Parallel(n_jobs=8)]: Done 100 out of 100 | elapsed:    0.2s finished\n"
     ]
    },
    {
     "name": "stdout",
     "output_type": "stream",
     "text": [
      "              precision    recall  f1-score   support\n",
      "\n",
      "       False       0.99      0.99      0.99     91631\n",
      "        True       0.69      0.57      0.62      2470\n",
      "\n",
      "   micro avg       0.98      0.98      0.98     94101\n",
      "   macro avg       0.84      0.78      0.81     94101\n",
      "weighted avg       0.98      0.98      0.98     94101\n",
      "\n",
      "[[91003   628]\n",
      " [ 1066  1404]]\n",
      "Accuracy:  0.9819980659079075\n",
      "Balanced Acc:  0.7807837384383245\n"
     ]
    },
    {
     "data": {
      "image/png": "[encoded data removed]",
      "text/plain": [
       "<Figure size 720x432 with 1 Axes>"
      ]
     },
     "metadata": {
      "needs_background": "light"
     },
     "output_type": "display_data"
    }
   ],
   "source": [
    "# Make the random forest classifier\n",
    "random_forest = RandomForestClassifier(n_estimators = 100, random_state = 12, verbose = 1, n_jobs = -1)\n",
    "# Train on the training data\n",
    "random_forest.fit(x_train, y_train);\n",
    "df_feats_dumm = pd.get_dummies(df_feats.drop(['is_goal'], axis=1))\n",
    "# Feature names\n",
    "features = list(df_feats_dumm.columns)\n",
    "\n",
    "# Extract feature importances\n",
    "feature_importance_values = random_forest.feature_importances_\n",
    "feature_importances = pd.DataFrame({'feature': features, 'importance': feature_importance_values})\n",
    "\n",
    "# Make predictions on the test data\n",
    "predictions = random_forest.predict(x_val)\n",
    "\n",
    "# summarize the fit of the model\n",
    "print(metrics.classification_report(y_val, predictions))\n",
    "print(metrics.confusion_matrix(y_val, predictions))\n",
    "\n",
    "print('Accuracy: ', metrics.accuracy_score(y_val, predictions))\n",
    "print('Balanced Acc: ', metrics.balanced_accuracy_score(y_val, predictions))\n",
    "\n",
    "# Show the feature importances for the default features\n",
    "feature_importances_sorted = plot_feature_importances(feature_importances)"
   ]
  },
  {
   "cell_type": "markdown",
   "metadata": {},
   "source": [
    "# Handling imbalance classes: Random Under Sampling"
   ]
  },
  {
   "cell_type": "markdown",
   "metadata": {},
   "source": [
    "we have class imbalance, we will use evaluation metrics different from accuracy which include (True positive, True negative, False positive, False negative)"
   ]
  },
  {
   "cell_type": "code",
   "execution_count": 66,
   "metadata": {
    "scrolled": true
   },
   "outputs": [
    {
     "data": {
      "image/png": "[encoded data removed]",
      "text/plain": [
       "<Figure size 432x288 with 1 Axes>"
      ]
     },
     "metadata": {
      "needs_background": "light"
     },
     "output_type": "display_data"
    }
   ],
   "source": [
    "class_imb = sns.countplot(df_feats.is_goal)\n",
    "class_imb.figure.savefig('../figures/class_imb.pdf', format = 'pdf')"
   ]
  },
  {
   "cell_type": "code",
   "execution_count": 36,
   "metadata": {},
   "outputs": [
    {
     "name": "stdout",
     "output_type": "stream",
     "text": [
      "Original dataset shape Counter({False: 824932, True: 21976})\n"
     ]
    }
   ],
   "source": [
    "print('Original dataset shape %s' % Counter(y_train))"
   ]
  },
  {
   "cell_type": "code",
   "execution_count": 37,
   "metadata": {},
   "outputs": [],
   "source": [
    "rus = RandomUnderSampler(random_state=42)\n",
    "X_res_u, y_res_u = rus.fit_resample(x_train, y_train)"
   ]
  },
  {
   "cell_type": "code",
   "execution_count": 38,
   "metadata": {},
   "outputs": [
    {
     "name": "stdout",
     "output_type": "stream",
     "text": [
      "Resampled dataset shape Counter({False: 21976, True: 21976})\n"
     ]
    }
   ],
   "source": [
    "print('Resampled dataset shape %s' % Counter(y_res_u))"
   ]
  },
  {
   "cell_type": "markdown",
   "metadata": {},
   "source": [
    "## Logistic Regression model"
   ]
  },
  {
   "cell_type": "code",
   "execution_count": 39,
   "metadata": {},
   "outputs": [
    {
     "name": "stdout",
     "output_type": "stream",
     "text": [
      "LogisticRegression(C=1.0, class_weight=None, dual=False, fit_intercept=True,\n",
      "          intercept_scaling=1, max_iter=100, multi_class='warn',\n",
      "          n_jobs=None, penalty='l2', random_state=None, solver='warn',\n",
      "          tol=0.0001, verbose=0, warm_start=False)\n",
      "              precision    recall  f1-score   support\n",
      "\n",
      "       False       1.00      0.94      0.97     91631\n",
      "        True       0.32      1.00      0.49      2470\n",
      "\n",
      "   micro avg       0.95      0.95      0.95     94101\n",
      "   macro avg       0.66      0.97      0.73     94101\n",
      "weighted avg       0.98      0.95      0.96     94101\n",
      "\n",
      "[[86464  5167]\n",
      " [    0  2470]]\n",
      "Accuracy:  0.945090912955229\n",
      "Balanced Acc:  0.971805393371239\n"
     ]
    }
   ],
   "source": [
    "model = LogisticRegression()\n",
    "model.fit(X_res_u, y_res_u)\n",
    "\n",
    "print(model)\n",
    "\n",
    "# make predictions\n",
    "expected = y_val\n",
    "predicted = model.predict(x_val)\n",
    "\n",
    "# summarize the fit of the model\n",
    "print(metrics.classification_report(expected, predicted))\n",
    "print(metrics.confusion_matrix(expected, predicted))\n",
    "\n",
    "print('Accuracy: ', metrics.accuracy_score(expected, predicted))\n",
    "print('Balanced Acc: ', metrics.balanced_accuracy_score(expected, predicted))"
   ]
  },
  {
   "cell_type": "code",
   "execution_count": 46,
   "metadata": {},
   "outputs": [
    {
     "data": {
      "image/png": "[encoded data removed]",
      "text/plain": [
       "<Figure size 432x288 with 1 Axes>"
      ]
     },
     "metadata": {
      "needs_background": "light"
     },
     "output_type": "display_data"
    }
   ],
   "source": [
    "# Find the residuals\n",
    "pred = predicted.astype('int8')\n",
    "# y = y_val.as_matrix().astype('int8')\n",
    "residuals = abs(pred - y_val)\n",
    "x = x_val.as_matrix()\n",
    "# Extract the most wrong prediction\n",
    "wrong = x[np.argmax(residuals), :]\n",
    "\n",
    "# Create a lime explainer object\n",
    "explainer = lime_tabular.LimeTabularExplainer(training_data = X_res_u, \n",
    "                                                   mode = 'classification',\n",
    "                                                   training_labels = y_res_u,\n",
    "                                                   feature_names = df_feats_dumm.columns.tolist())\n",
    "\n",
    "# Explanation for wrong prediction\n",
    "exp = explainer.explain_instance(data_row = wrong, \n",
    "                                     predict_fn = model.predict_proba, labels=(0,1))\n",
    "\n",
    "# Plot the prediction explaination\n",
    "exp.as_pyplot_figure(label=0,);\n"
   ]
  },
  {
   "cell_type": "markdown",
   "metadata": {},
   "source": [
    "## Gradient Boosting model"
   ]
  },
  {
   "cell_type": "code",
   "execution_count": 47,
   "metadata": {
    "scrolled": true
   },
   "outputs": [
    {
     "name": "stdout",
     "output_type": "stream",
     "text": [
      "              precision    recall  f1-score   support\n",
      "\n",
      "       False       1.00      0.94      0.97     91631\n",
      "        True       0.32      1.00      0.49      2470\n",
      "\n",
      "   micro avg       0.94      0.94      0.94     94101\n",
      "   macro avg       0.66      0.97      0.73     94101\n",
      "weighted avg       0.98      0.94      0.96     94101\n",
      "\n",
      "[[86439  5192]\n",
      " [    1  2469]]\n",
      "Accuracy:  0.9448146140848662\n",
      "Balanced Acc:  0.9714665475065742\n"
     ]
    }
   ],
   "source": [
    "\n",
    "# Create the model\n",
    "gradient_boosted = GradientBoostingClassifier()\n",
    "\n",
    "# Fit the model on the training data\n",
    "gradient_boosted.fit(X_res_u, y_res_u)\n",
    "\n",
    "# Make predictions on the test data\n",
    "predictions = gradient_boosted.predict(x_val)\n",
    "\n",
    "# summarize the fit of the model\n",
    "print(metrics.classification_report(y_val, predictions))\n",
    "print(metrics.confusion_matrix(y_val, predictions))\n",
    "\n",
    "# Evaluate the model\n",
    "print('Accuracy: ', metrics.accuracy_score(y_val, predictions))\n",
    "print('Balanced Acc: ', metrics.balanced_accuracy_score(y_val, predictions))"
   ]
  },
  {
   "cell_type": "code",
   "execution_count": 48,
   "metadata": {},
   "outputs": [
    {
     "data": {
      "image/png": "[encoded data removed]",
      "text/plain": [
       "<Figure size 432x288 with 1 Axes>"
      ]
     },
     "metadata": {
      "needs_background": "light"
     },
     "output_type": "display_data"
    }
   ],
   "source": [
    "# Find the residuals\n",
    "pred = predicted.astype('int8')\n",
    "# y = y_val.as_matrix().astype('int8')\n",
    "residuals = abs(pred - y_val)\n",
    "x = x_val.as_matrix()\n",
    "# Extract the most wrong prediction\n",
    "wrong = x[np.argmax(residuals), :]\n",
    "\n",
    "# Create a lime explainer object\n",
    "explainer = lime_tabular.LimeTabularExplainer(training_data = X_res_u, \n",
    "                                                   mode = 'classification',\n",
    "                                                   training_labels = y_res_u,\n",
    "                                                   feature_names = df_feats_dumm.columns.tolist())\n",
    "\n",
    "# Explanation for wrong prediction\n",
    "exp = explainer.explain_instance(data_row = wrong, \n",
    "                                     predict_fn = gradient_boosted.predict_proba, labels=(0,1))\n",
    "\n",
    "# Plot the prediction explaination\n",
    "exp.as_pyplot_figure(label=0,);\n"
   ]
  },
  {
   "cell_type": "markdown",
   "metadata": {},
   "source": [
    "## Support Vector Machine"
   ]
  },
  {
   "cell_type": "code",
   "execution_count": 202,
   "metadata": {
    "scrolled": true
   },
   "outputs": [
    {
     "name": "stdout",
     "output_type": "stream",
     "text": [
      "              precision    recall  f1-score   support\n",
      "\n",
      "       False       1.00      0.94      0.97     91631\n",
      "        True       0.31      1.00      0.47      2470\n",
      "\n",
      "   micro avg       0.94      0.94      0.94     94101\n",
      "   macro avg       0.65      0.97      0.72     94101\n",
      "weighted avg       0.98      0.94      0.96     94101\n",
      "\n",
      "[[86012  5619]\n",
      " [    0  2470]]\n",
      "Accuracy:  0.9402875633627698\n",
      "Balanced Acc:  0.9693389791664393\n"
     ]
    }
   ],
   "source": [
    "\n",
    "\n",
    "# Create the model\n",
    "svm = SVC()\n",
    "\n",
    "# Fit the model on the training data\n",
    "svm.fit(X_res_u, y_res_u)\n",
    "\n",
    "# Make predictions on the test data\n",
    "predictions = svm.predict(x_val)\n",
    "\n",
    "# summarize the fit of the model\n",
    "print(metrics.classification_report(y_val, predictions))\n",
    "print(metrics.confusion_matrix(y_val, predictions))\n",
    "\n",
    "# Evaluate the model\n",
    "print('Accuracy: ', metrics.accuracy_score(y_val, predictions))\n",
    "print('Balanced Acc: ', metrics.balanced_accuracy_score(y_val, predictions))"
   ]
  },
  {
   "cell_type": "markdown",
   "metadata": {},
   "source": [
    "## Random Forest"
   ]
  },
  {
   "cell_type": "code",
   "execution_count": 53,
   "metadata": {},
   "outputs": [
    {
     "name": "stderr",
     "output_type": "stream",
     "text": [
      "[Parallel(n_jobs=-1)]: Using backend ThreadingBackend with 8 concurrent workers.\n",
      "[Parallel(n_jobs=-1)]: Done  34 tasks      | elapsed:    0.3s\n",
      "[Parallel(n_jobs=-1)]: Done 100 out of 100 | elapsed:    0.7s finished\n",
      "[Parallel(n_jobs=8)]: Using backend ThreadingBackend with 8 concurrent workers.\n",
      "[Parallel(n_jobs=8)]: Done  34 tasks      | elapsed:    0.1s\n",
      "[Parallel(n_jobs=8)]: Done 100 out of 100 | elapsed:    0.2s finished\n"
     ]
    },
    {
     "name": "stdout",
     "output_type": "stream",
     "text": [
      "              precision    recall  f1-score   support\n",
      "\n",
      "       False       1.00      0.95      0.97     91631\n",
      "        True       0.35      0.99      0.52      2470\n",
      "\n",
      "   micro avg       0.95      0.95      0.95     94101\n",
      "   macro avg       0.67      0.97      0.75     94101\n",
      "weighted avg       0.98      0.95      0.96     94101\n",
      "\n",
      "[[87087  4544]\n",
      " [   25  2445]]\n",
      "Accuracy:  0.951445786973571\n",
      "Balanced Acc:  0.9701441691607913\n"
     ]
    },
    {
     "data": {
      "image/png": "[encoded data removed]",
      "text/plain": [
       "<Figure size 720x432 with 1 Axes>"
      ]
     },
     "metadata": {
      "needs_background": "light"
     },
     "output_type": "display_data"
    }
   ],
   "source": [
    "\n",
    "\n",
    "# Make the random forest classifier\n",
    "random_forest = RandomForestClassifier(n_estimators = 100, random_state = 12, verbose = 1, n_jobs = -1)\n",
    "# Train on the training data\n",
    "random_forest.fit(X_res_u, y_res_u);\n",
    "\n",
    "# Feature names\n",
    "features = list(df_feats_dumm.columns)\n",
    "\n",
    "# Extract feature importances\n",
    "feature_importance_values = random_forest.feature_importances_\n",
    "feature_importances = pd.DataFrame({'feature': features, 'importance': feature_importance_values})\n",
    "\n",
    "# Make predictions on the test data\n",
    "predictions = random_forest.predict(x_val)\n",
    "\n",
    "# summarize the fit of the model\n",
    "print(metrics.classification_report(y_val, predictions))\n",
    "print(metrics.confusion_matrix(y_val, predictions))\n",
    "\n",
    "print('Accuracy: ', metrics.accuracy_score(y_val, predictions))\n",
    "print('Balanced Acc: ', metrics.balanced_accuracy_score(y_val, predictions))\n",
    "\n",
    "# Show the feature importances for the default features\n",
    "feature_importances_sorted = plot_feature_importances(feature_importances)"
   ]
  },
  {
   "cell_type": "markdown",
   "metadata": {},
   "source": [
    "# Remove null vals"
   ]
  },
  {
   "cell_type": "markdown",
   "metadata": {},
   "source": [
    "## 2nd Trial: SMOTENC"
   ]
  },
  {
   "cell_type": "markdown",
   "metadata": {},
   "source": [
    "Using the same manually chosen features"
   ]
  },
  {
   "cell_type": "code",
   "execution_count": 67,
   "metadata": {},
   "outputs": [
    {
     "data": {
      "text/plain": [
       "['odd_h',\n",
       " 'odd_d',\n",
       " 'odd_a',\n",
       " 'assist_method',\n",
       " 'location',\n",
       " 'side',\n",
       " 'shot_place',\n",
       " 'situation',\n",
       " 'bodypart',\n",
       " 'time',\n",
       " 'is_goal']"
      ]
     },
     "execution_count": 67,
     "metadata": {},
     "output_type": "execute_result"
    }
   ],
   "source": [
    "feat_cols"
   ]
  },
  {
   "cell_type": "code",
   "execution_count": 69,
   "metadata": {},
   "outputs": [
    {
     "name": "stdout",
     "output_type": "stream",
     "text": [
      "<class 'pandas.core.frame.DataFrame'>\n",
      "Int64Index: 167141 entries, 0 to 941006\n",
      "Data columns (total 11 columns):\n",
      "odd_h            167141 non-null float16\n",
      "odd_d            167141 non-null float16\n",
      "odd_a            167141 non-null float16\n",
      "assist_method    167141 non-null category\n",
      "location         167141 non-null category\n",
      "side             167141 non-null category\n",
      "shot_place       167141 non-null category\n",
      "situation        167141 non-null category\n",
      "bodypart         167141 non-null category\n",
      "is_goal          167141 non-null bool\n",
      "first_half       167141 non-null bool\n",
      "dtypes: bool(2), category(6), float16(3)\n",
      "memory usage: 3.5 MB\n"
     ]
    }
   ],
   "source": [
    "df = read_merge()\n",
    "\n",
    "# Fix the datatypes of some categorical columns\n",
    "categoricals = ['id_odsp', 'event_type', 'event_team', 'opponent', 'shot_place', 'shot_outcome', 'location', 'bodypart', 'assist_method', 'situation', 'side', 'player']\n",
    "df = fix_dtypes(df, categoricals)\n",
    "\n",
    "\n",
    "# Drop NA values\n",
    "df_feats = select_feats(df, feat_cols)\n",
    "df_feats['first_half'] = df_feats.time <= 45\n",
    "df_feats.first_half = df_feats.first_half.astype('bool')\n",
    "df_feats.drop(['time'], axis = 1, inplace =True)\n",
    "\n",
    "\n",
    "df_feats.dropna(inplace=True)\n",
    "df_feats.info()"
   ]
  },
  {
   "cell_type": "code",
   "execution_count": 71,
   "metadata": {},
   "outputs": [
    {
     "name": "stdout",
     "output_type": "stream",
     "text": [
      "Original dataset shape Counter({False: 136239, True: 14187})\n"
     ]
    }
   ],
   "source": [
    "x_train, x_val, y_train, y_val = train_test_split(pd.get_dummies(df_feats.drop(['is_goal'], axis=1)),\n",
    "                                                  df_feats.is_goal.values,\n",
    "                                                  test_size = .1,\n",
    "                                                  random_state=12)\n",
    "\n",
    "\n",
    "print('Original dataset shape %s' % Counter(y_train))"
   ]
  },
  {
   "cell_type": "code",
   "execution_count": 72,
   "metadata": {},
   "outputs": [
    {
     "data": {
      "text/plain": [
       "array([ 3,  4,  5,  6,  7,  8,  9, 10, 11, 12, 13, 14, 15, 16, 17, 18, 19,\n",
       "       20, 21, 22, 23, 24, 25, 26, 27, 28, 29, 30, 31, 32, 33, 34, 35, 36,\n",
       "       37, 38, 39, 40, 41, 42, 43, 44, 45, 46, 47, 48])"
      ]
     },
     "execution_count": 72,
     "metadata": {},
     "output_type": "execute_result"
    }
   ],
   "source": [
    "x_train.iloc[0,1]\n",
    "num_feats = len(x_train.columns)\n",
    "x_train.head()\n",
    "cat_indices = np.arange(3, num_feats)\n",
    "cat_indices"
   ]
  },
  {
   "cell_type": "code",
   "execution_count": 73,
   "metadata": {},
   "outputs": [],
   "source": [
    "res_smote = SMOTENC(categorical_features= cat_indices, random_state=42)\n",
    "X_res, y_res = res_smote.fit_resample(x_train, y_train)"
   ]
  },
  {
   "cell_type": "code",
   "execution_count": 76,
   "metadata": {},
   "outputs": [],
   "source": [
    "# save SMOTE resampled dataset after removing the null values\n",
    "df_feats_dumm = pd.get_dummies(df_feats.drop(['is_goal'], axis=1))\n",
    "df_X_smote = pd.DataFrame(X_res, columns=df_feats_dumm.columns)\n",
    "df_y_smote = pd.DataFrame(y_res, columns=['is_goal'])\n",
    "df_X_smote.to_csv('../data/X_res_SMOTE.csv')\n",
    "df_y_smote.to_csv('../data/y_res_SMOTE.csv')"
   ]
  },
  {
   "cell_type": "code",
   "execution_count": 77,
   "metadata": {},
   "outputs": [
    {
     "name": "stdout",
     "output_type": "stream",
     "text": [
      "Resampled dataset shape Counter({False: 136239, True: 136239})\n"
     ]
    }
   ],
   "source": [
    "print('Resampled dataset shape %s' % Counter(y_res))"
   ]
  },
  {
   "cell_type": "markdown",
   "metadata": {},
   "source": [
    "## Logistic Regression model"
   ]
  },
  {
   "cell_type": "code",
   "execution_count": 78,
   "metadata": {},
   "outputs": [
    {
     "name": "stdout",
     "output_type": "stream",
     "text": [
      "              precision    recall  f1-score   support\n",
      "\n",
      "       False       0.99      0.82      0.90     15055\n",
      "        True       0.37      0.95      0.54      1660\n",
      "\n",
      "   micro avg       0.84      0.84      0.84     16715\n",
      "   macro avg       0.68      0.89      0.72     16715\n",
      "weighted avg       0.93      0.84      0.86     16715\n",
      "\n",
      "[[12405  2650]\n",
      " [   77  1583]]\n",
      "Accuracy:  0.8368531259347891\n",
      "Balanced Acc:  0.8887966012172236\n"
     ]
    }
   ],
   "source": [
    "model = LogisticRegression()\n",
    "model.fit(X_res, y_res)\n",
    "\n",
    "# make predictions\n",
    "expected = y_val\n",
    "predicted = model.predict(x_val)\n",
    "\n",
    "# summarize the fit of the model\n",
    "print(metrics.classification_report(expected, predicted))\n",
    "print(metrics.confusion_matrix(expected, predicted))\n",
    "\n",
    "print('Accuracy: ', metrics.accuracy_score(expected, predicted))\n",
    "print('Balanced Acc: ', metrics.balanced_accuracy_score(expected, predicted))"
   ]
  },
  {
   "cell_type": "code",
   "execution_count": 80,
   "metadata": {},
   "outputs": [
    {
     "data": {
      "image/png": "[encoded data removed]",
      "text/plain": [
       "<Figure size 432x288 with 1 Axes>"
      ]
     },
     "metadata": {
      "needs_background": "light"
     },
     "output_type": "display_data"
    }
   ],
   "source": [
    "# Find the residuals\n",
    "pred = predicted.astype('int8')\n",
    "# y = y_val.as_matrix().astype('int8')\n",
    "residuals = abs(pred - y_val)\n",
    "x = x_val.as_matrix()\n",
    "# Extract the most wrong prediction\n",
    "wrong = x[np.argmax(residuals), :]\n",
    "\n",
    "# Create a lime explainer object\n",
    "explainer = lime_tabular.LimeTabularExplainer(training_data = X_res, \n",
    "                                                   mode = 'classification',\n",
    "                                                   training_labels = y_res,\n",
    "                                                   feature_names = df_feats_dumm.columns.tolist())\n",
    "\n",
    "# Explanation for wrong prediction\n",
    "exp = explainer.explain_instance(data_row = wrong, \n",
    "                                     predict_fn = model.predict_proba, labels=(0,1))\n",
    "\n",
    "# Plot the prediction explaination\n",
    "exp.as_pyplot_figure(label=0,);\n"
   ]
  },
  {
   "cell_type": "markdown",
   "metadata": {},
   "source": [
    "## Gradient Boosting model"
   ]
  },
  {
   "cell_type": "code",
   "execution_count": 81,
   "metadata": {
    "scrolled": true
   },
   "outputs": [
    {
     "name": "stdout",
     "output_type": "stream",
     "text": [
      "              precision    recall  f1-score   support\n",
      "\n",
      "       False       1.00      0.79      0.88     15055\n",
      "        True       0.34      0.98      0.51      1660\n",
      "\n",
      "   micro avg       0.81      0.81      0.81     16715\n",
      "   macro avg       0.67      0.89      0.69     16715\n",
      "weighted avg       0.93      0.81      0.84     16715\n",
      "\n",
      "[[11904  3151]\n",
      " [   31  1629]]\n",
      "Accuracy:  0.8096320670056835\n",
      "Balanced Acc:  0.8860130325353224\n"
     ]
    }
   ],
   "source": [
    "\n",
    "# Create the model\n",
    "gradient_boosted = GradientBoostingClassifier()\n",
    "\n",
    "# Fit the model on the training data\n",
    "gradient_boosted.fit(X_res, y_res)\n",
    "\n",
    "# Make predictions on the test data\n",
    "predictions = gradient_boosted.predict(x_val)\n",
    "\n",
    "# summarize the fit of the model\n",
    "print(metrics.classification_report(y_val, predictions))\n",
    "print(metrics.confusion_matrix(y_val, predictions))\n",
    "\n",
    "# Evaluate the model\n",
    "print('Accuracy: ', metrics.accuracy_score(y_val, predictions))\n",
    "print('Balanced Acc: ', metrics.balanced_accuracy_score(y_val, predictions))"
   ]
  },
  {
   "cell_type": "code",
   "execution_count": 83,
   "metadata": {},
   "outputs": [
    {
     "data": {
      "image/png": "[encoded data removed]",
      "text/plain": [
       "<Figure size 432x288 with 1 Axes>"
      ]
     },
     "metadata": {
      "needs_background": "light"
     },
     "output_type": "display_data"
    }
   ],
   "source": [
    "# Find the residuals\n",
    "pred = predicted.astype('int8')\n",
    "# y = y_val.as_matrix().astype('int8')\n",
    "residuals = abs(pred - y_val)\n",
    "x = x_val.as_matrix()\n",
    "# Extract the most wrong prediction\n",
    "wrong = x[np.argmax(residuals), :]\n",
    "\n",
    "# Create a lime explainer object\n",
    "explainer = lime_tabular.LimeTabularExplainer(training_data = X_res, \n",
    "                                                   mode = 'classification',\n",
    "                                                   training_labels = y_res,\n",
    "                                                   feature_names = df_feats_dumm.columns.tolist())\n",
    "\n",
    "# Explanation for wrong prediction\n",
    "exp = explainer.explain_instance(data_row = wrong, \n",
    "                                     predict_fn = gradient_boosted.predict_proba, labels=(0,1))\n",
    "\n",
    "# Plot the prediction explaination\n",
    "exp.as_pyplot_figure(label=0,);\n"
   ]
  },
  {
   "cell_type": "markdown",
   "metadata": {},
   "source": [
    "## Random Forest"
   ]
  },
  {
   "cell_type": "code",
   "execution_count": 84,
   "metadata": {},
   "outputs": [
    {
     "name": "stderr",
     "output_type": "stream",
     "text": [
      "[Parallel(n_jobs=-1)]: Using backend ThreadingBackend with 8 concurrent workers.\n",
      "[Parallel(n_jobs=-1)]: Done  34 tasks      | elapsed:    5.0s\n",
      "[Parallel(n_jobs=-1)]: Done 100 out of 100 | elapsed:   13.0s finished\n",
      "[Parallel(n_jobs=8)]: Using backend ThreadingBackend with 8 concurrent workers.\n",
      "[Parallel(n_jobs=8)]: Done  34 tasks      | elapsed:    0.0s\n"
     ]
    },
    {
     "name": "stdout",
     "output_type": "stream",
     "text": [
      "              precision    recall  f1-score   support\n",
      "\n",
      "       False       0.96      0.91      0.94     15055\n",
      "        True       0.47      0.69      0.56      1660\n",
      "\n",
      "   micro avg       0.89      0.89      0.89     16715\n",
      "   macro avg       0.72      0.80      0.75     16715\n",
      "weighted avg       0.91      0.89      0.90     16715\n",
      "\n",
      "[[13773  1282]\n",
      " [  520  1140]]\n",
      "Accuracy:  0.8921926413401137\n",
      "Balanced Acc:  0.8007962771044324\n"
     ]
    },
    {
     "name": "stderr",
     "output_type": "stream",
     "text": [
      "[Parallel(n_jobs=8)]: Done 100 out of 100 | elapsed:    0.1s finished\n"
     ]
    },
    {
     "data": {
      "image/png": "[encoded data removed]",
      "text/plain": [
       "<Figure size 720x432 with 1 Axes>"
      ]
     },
     "metadata": {
      "needs_background": "light"
     },
     "output_type": "display_data"
    }
   ],
   "source": [
    "# Make the random forest classifier\n",
    "random_forest = RandomForestClassifier(n_estimators = 100, random_state = 12, verbose = 1, n_jobs = -1)\n",
    "# Train on the training data\n",
    "random_forest.fit(X_res, y_res);\n",
    "\n",
    "# Feature names\n",
    "features = list(df_feats_dumm.columns)\n",
    "\n",
    "# Extract feature importances\n",
    "feature_importance_values = random_forest.feature_importances_\n",
    "feature_importances = pd.DataFrame({'feature': features, 'importance': feature_importance_values})\n",
    "\n",
    "# Make predictions on the test data\n",
    "predictions = random_forest.predict(x_val)\n",
    "\n",
    "# summarize the fit of the model\n",
    "print(metrics.classification_report(y_val, predictions))\n",
    "print(metrics.confusion_matrix(y_val, predictions))\n",
    "\n",
    "print('Accuracy: ', metrics.accuracy_score(y_val, predictions))\n",
    "print('Balanced Acc: ', metrics.balanced_accuracy_score(y_val, predictions))\n",
    "\n",
    "# Show the feature importances for the default features\n",
    "feature_importances_sorted = plot_feature_importances(feature_importances)"
   ]
  },
  {
   "cell_type": "markdown",
   "metadata": {},
   "source": [
    "## Handling imbalance classes: Random Over Sampling"
   ]
  },
  {
   "cell_type": "code",
   "execution_count": null,
   "metadata": {},
   "outputs": [],
   "source": [
    "df_feats.dropna(inplace = True)\n",
    "df_feats.info()"
   ]
  },
  {
   "cell_type": "code",
   "execution_count": null,
   "metadata": {},
   "outputs": [],
   "source": [
    "training_features = df_feats.drop(columns=['is_goal'])\n",
    "training_target = df_feats.is_goal"
   ]
  },
  {
   "cell_type": "markdown",
   "metadata": {},
   "source": [
    "we have class imbalance, we will use evaluation metrics different from accuracy which include (True positive, True negative, False positive, False negative)"
   ]
  },
  {
   "cell_type": "code",
   "execution_count": null,
   "metadata": {},
   "outputs": [],
   "source": [
    "# One-hot encoding for categorical columns\n",
    "df_feats_dumm = pd.get_dummies(df_feats.drop(['is_goal'], axis=1))"
   ]
  },
  {
   "cell_type": "code",
   "execution_count": null,
   "metadata": {},
   "outputs": [],
   "source": [
    "x_train, x_val, y_train, y_val = train_test_split(df_feats_dumm, training_target,\n",
    "                                                  test_size = .1,\n",
    "                                                  random_state=12)\n"
   ]
  },
  {
   "cell_type": "code",
   "execution_count": 85,
   "metadata": {},
   "outputs": [
    {
     "data": {
      "text/plain": [
       "(150426, 49)"
      ]
     },
     "execution_count": 85,
     "metadata": {},
     "output_type": "execute_result"
    }
   ],
   "source": [
    "x_train.shape"
   ]
  },
  {
   "cell_type": "code",
   "execution_count": 86,
   "metadata": {},
   "outputs": [
    {
     "data": {
      "text/plain": [
       "(16715, 49)"
      ]
     },
     "execution_count": 86,
     "metadata": {},
     "output_type": "execute_result"
    }
   ],
   "source": [
    "x_val.shape"
   ]
  },
  {
   "cell_type": "code",
   "execution_count": null,
   "metadata": {
    "scrolled": true
   },
   "outputs": [],
   "source": [
    "# distribution of the response variable\n",
    "df_feats.is_goal.astype('int').hist();"
   ]
  },
  {
   "cell_type": "code",
   "execution_count": 87,
   "metadata": {},
   "outputs": [
    {
     "name": "stdout",
     "output_type": "stream",
     "text": [
      "Original dataset shape Counter({False: 136239, True: 14187})\n"
     ]
    }
   ],
   "source": [
    "print('Original dataset shape %s' % Counter(y_train))"
   ]
  },
  {
   "cell_type": "code",
   "execution_count": 88,
   "metadata": {},
   "outputs": [],
   "source": [
    "rus = RandomOverSampler(random_state=42)\n",
    "X_res_o, y_res_o = rus.fit_resample(x_train, y_train)"
   ]
  },
  {
   "cell_type": "code",
   "execution_count": 89,
   "metadata": {},
   "outputs": [
    {
     "name": "stdout",
     "output_type": "stream",
     "text": [
      "Resampled dataset shape Counter({False: 136239, True: 136239})\n"
     ]
    }
   ],
   "source": [
    "print('Resampled dataset shape %s' % Counter(y_res_o))"
   ]
  },
  {
   "cell_type": "markdown",
   "metadata": {},
   "source": [
    "## Logistic Regression model"
   ]
  },
  {
   "cell_type": "code",
   "execution_count": 125,
   "metadata": {},
   "outputs": [
    {
     "name": "stdout",
     "output_type": "stream",
     "text": [
      "LogisticRegression(C=1.0, class_weight=None, dual=False, fit_intercept=True,\n",
      "          intercept_scaling=1, max_iter=100, multi_class='warn',\n",
      "          n_jobs=None, penalty='l2', random_state=None, solver='warn',\n",
      "          tol=0.0001, verbose=0, warm_start=False)\n",
      "              precision    recall  f1-score   support\n",
      "\n",
      "       False       1.00      0.82      0.90     15055\n",
      "        True       0.37      0.97      0.53      1660\n",
      "\n",
      "   micro avg       0.83      0.83      0.83     16715\n",
      "   macro avg       0.68      0.89      0.71     16715\n",
      "weighted avg       0.93      0.83      0.86     16715\n",
      "\n",
      "[[12283  2772]\n",
      " [   50  1610]]\n",
      "Accuracy:  0.8311696081364044\n",
      "Balanced Acc:  0.8928773213078152\n"
     ]
    }
   ],
   "source": [
    "from sklearn import metrics\n",
    "from sklearn.linear_model import LogisticRegression\n",
    "\n",
    "model = LogisticRegression()\n",
    "model.fit(X_res_o, y_res_o)\n",
    "\n",
    "print(model)\n",
    "\n",
    "# make predictions\n",
    "expected = y_val\n",
    "predicted = model.predict(x_val)\n",
    "\n",
    "# summarize the fit of the model\n",
    "print(metrics.classification_report(expected, predicted))\n",
    "print(metrics.confusion_matrix(expected, predicted))\n",
    "\n",
    "print('Accuracy: ', metrics.accuracy_score(expected, predicted))\n",
    "print('Balanced Acc: ', metrics.balanced_accuracy_score(expected, predicted))"
   ]
  },
  {
   "cell_type": "code",
   "execution_count": 130,
   "metadata": {},
   "outputs": [
    {
     "data": {
      "text/plain": [
       "1"
      ]
     },
     "execution_count": 130,
     "metadata": {},
     "output_type": "execute_result"
    }
   ],
   "source": [
    "# Find the residuals\n",
    "pred = predicted.astype('int8')\n",
    "pred[4]\n",
    "\n",
    "# y = y_val.as_matrix().astype('int8')\n",
    "residuals = abs(pred - y_val)\n",
    "x = x_val.as_matrix()\n",
    "# Extract the most wrong prediction\n",
    "wrong = x[np.argmax(residuals), :]\n",
    "y_val[np.argmax(residuals)] \n",
    "pred[np.argmax(residuals)]\n",
    "# # Create a lime explainer object\n",
    "# explainer = lime_tabular.LimeTabularExplainer(training_data = X_res_o, \n",
    "#                                                    mode = 'classification',\n",
    "#                                                    training_labels = y_res_o,\n",
    "#                                                    feature_names = df_feats_dumm.columns.tolist())\n",
    "\n",
    "# # Explanation for wrong prediction\n",
    "# exp = explainer.explain_instance(data_row = wrong, \n",
    "#                                      predict_fn = model.predict_proba, labels=(0,1))\n",
    "\n",
    "# # Plot the prediction explaination\n",
    "# exp.as_pyplot_figure(label=0,);\n"
   ]
  },
  {
   "cell_type": "markdown",
   "metadata": {},
   "source": [
    "## Gradient Boosting model"
   ]
  },
  {
   "cell_type": "code",
   "execution_count": 106,
   "metadata": {
    "scrolled": true
   },
   "outputs": [
    {
     "name": "stdout",
     "output_type": "stream",
     "text": [
      "              precision    recall  f1-score   support\n",
      "\n",
      "       False       1.00      0.80      0.88     15055\n",
      "        True       0.35      0.98      0.51      1660\n",
      "\n",
      "   micro avg       0.81      0.81      0.81     16715\n",
      "   macro avg       0.67      0.89      0.70     16715\n",
      "weighted avg       0.93      0.81      0.85     16715\n",
      "\n",
      "[[11971  3084]\n",
      " [   31  1629]]\n",
      "Accuracy:  0.8136404427161232\n",
      "Balanced Acc:  0.8882382068959997\n"
     ]
    }
   ],
   "source": [
    "\n",
    "# Create the model\n",
    "gradient_boosted = GradientBoostingClassifier()\n",
    "\n",
    "# Fit the model on the training data\n",
    "gradient_boosted.fit(X_res_o, y_res_o)\n",
    "\n",
    "# Make predictions on the test data\n",
    "predictions = gradient_boosted.predict(x_val)\n",
    "\n",
    "# summarize the fit of the model\n",
    "print(metrics.classification_report(y_val, predictions))\n",
    "print(metrics.confusion_matrix(y_val, predictions))\n",
    "\n",
    "# Evaluate the model\n",
    "print('Accuracy: ', metrics.accuracy_score(y_val, predictions))\n",
    "print('Balanced Acc: ', metrics.balanced_accuracy_score(y_val, predictions))"
   ]
  },
  {
   "cell_type": "code",
   "execution_count": 124,
   "metadata": {},
   "outputs": [
    {
     "data": {
      "text/plain": [
       "False"
      ]
     },
     "execution_count": 124,
     "metadata": {},
     "output_type": "execute_result"
    }
   ],
   "source": [
    "# Find the residuals\n",
    "predictions = predictions.astype('int8')\n",
    "# y = y_val.as_matrix().astype('int8')\n",
    "residuals = abs(predictions - y_val)\n",
    "\n",
    "residuals\n",
    "x = x_val.as_matrix()\n",
    "\n",
    "# Extract the most wrong prediction\n",
    "wrong = x[np.argmax(residuals), :]\n",
    "\n",
    "\n",
    "y_val[4]\n",
    "\n",
    "# # Create a lime explainer object\n",
    "# explainer = lime_tabular.LimeTabularExplainer(training_data = X_res_o, \n",
    "#                                                    mode = 'classification',\n",
    "#                                                    training_labels = y_res_o,\n",
    "#                                                    feature_names = df_feats_dumm.columns.tolist())\n",
    "\n",
    "# # Explanation for wrong prediction\n",
    "# exp = explainer.explain_instance(data_row = wrong, \n",
    "#                                      predict_fn = gradient_boosted.predict_proba, labels=(0,1))\n",
    "\n",
    "# # Plot the prediction explaination\n",
    "# exp.as_pyplot_figure(label=0,);\n"
   ]
  },
  {
   "cell_type": "markdown",
   "metadata": {},
   "source": [
    "## Random Forest"
   ]
  },
  {
   "cell_type": "code",
   "execution_count": 94,
   "metadata": {},
   "outputs": [
    {
     "name": "stderr",
     "output_type": "stream",
     "text": [
      "[Parallel(n_jobs=-1)]: Using backend ThreadingBackend with 8 concurrent workers.\n",
      "[Parallel(n_jobs=-1)]: Done  34 tasks      | elapsed:    5.0s\n",
      "[Parallel(n_jobs=-1)]: Done 100 out of 100 | elapsed:   12.8s finished\n",
      "[Parallel(n_jobs=8)]: Using backend ThreadingBackend with 8 concurrent workers.\n",
      "[Parallel(n_jobs=8)]: Done  34 tasks      | elapsed:    0.0s\n",
      "[Parallel(n_jobs=8)]: Done 100 out of 100 | elapsed:    0.1s finished\n"
     ]
    },
    {
     "name": "stdout",
     "output_type": "stream",
     "text": [
      "              precision    recall  f1-score   support\n",
      "\n",
      "       False       0.95      0.95      0.95     15055\n",
      "        True       0.54      0.56      0.55      1660\n",
      "\n",
      "   micro avg       0.91      0.91      0.91     16715\n",
      "   macro avg       0.75      0.75      0.75     16715\n",
      "weighted avg       0.91      0.91      0.91     16715\n",
      "\n",
      "[[14271   784]\n",
      " [  735   925]]\n",
      "Accuracy:  0.9091235417289859\n",
      "Balanced Acc:  0.7525765966556361\n"
     ]
    },
    {
     "data": {
      "image/png": "[encoded data removed]",
      "text/plain": [
       "<Figure size 720x432 with 1 Axes>"
      ]
     },
     "metadata": {
      "needs_background": "light"
     },
     "output_type": "display_data"
    }
   ],
   "source": [
    "# Make the random forest classifier\n",
    "random_forest = RandomForestClassifier(n_estimators = 100, random_state = 12, verbose = 1, n_jobs = -1)\n",
    "# Train on the training data\n",
    "random_forest.fit(X_res_o, y_res_o);\n",
    "\n",
    "# Feature names\n",
    "features = list(df_feats_dumm.columns)\n",
    "\n",
    "# Extract feature importances\n",
    "feature_importance_values = random_forest.feature_importances_\n",
    "feature_importances = pd.DataFrame({'feature': features, 'importance': feature_importance_values})\n",
    "\n",
    "# Make predictions on the test data\n",
    "predictions = random_forest.predict(x_val)\n",
    "\n",
    "# summarize the fit of the model\n",
    "print(metrics.classification_report(y_val, predictions))\n",
    "print(metrics.confusion_matrix(y_val, predictions))\n",
    "\n",
    "print('Accuracy: ', metrics.accuracy_score(y_val, predictions))\n",
    "print('Balanced Acc: ', metrics.balanced_accuracy_score(y_val, predictions))\n",
    "\n",
    "# Show the feature importances for the default features\n",
    "feature_importances_sorted = plot_feature_importances(feature_importances)"
   ]
  },
  {
   "cell_type": "markdown",
   "metadata": {},
   "source": [
    "# Trial #4 Filling null values with 'UNK' and using SMOTENC"
   ]
  },
  {
   "cell_type": "code",
   "execution_count": 136,
   "metadata": {},
   "outputs": [],
   "source": [
    "from imblearn.over_sampling import SMOTENC\n",
    "from collections import Counter "
   ]
  },
  {
   "cell_type": "code",
   "execution_count": 137,
   "metadata": {},
   "outputs": [
    {
     "name": "stdout",
     "output_type": "stream",
     "text": [
      "Original dataset shape Counter({False: 824932, True: 21976})\n"
     ]
    }
   ],
   "source": [
    "print('Original dataset shape %s' % Counter(y_train))"
   ]
  },
  {
   "cell_type": "code",
   "execution_count": 142,
   "metadata": {},
   "outputs": [
    {
     "data": {
      "text/plain": [
       "array([ 3,  4,  5,  6,  7,  8,  9, 10, 11, 12, 13, 14, 15, 16, 17, 18, 19,\n",
       "       20, 21, 22, 23, 24, 25, 26, 27, 28, 29, 30, 31, 32, 33, 34, 35, 36,\n",
       "       37, 38, 39, 40, 41, 42, 43, 44, 45, 46, 47, 48, 49, 50, 51])"
      ]
     },
     "execution_count": 142,
     "metadata": {},
     "output_type": "execute_result"
    }
   ],
   "source": [
    "x_train.iloc[0,1]\n",
    "num_feats = len(x_train.columns)\n",
    "x_train.head()\n",
    "cat_indices = np.arange(3, num_feats)\n",
    "cat_indices"
   ]
  },
  {
   "cell_type": "code",
   "execution_count": 143,
   "metadata": {},
   "outputs": [],
   "source": [
    "# res_smote = SMOTENC(categorical_features= cat_indices, random_state=42)\n",
    "# X_res, y_res = res_smote.fit_resample(x_train, y_train)"
   ]
  },
  {
   "cell_type": "code",
   "execution_count": 144,
   "metadata": {},
   "outputs": [],
   "source": [
    "# save SMOTE resampled dataset after removing the null values\n",
    "df_X_smote = pd.DataFrame(X_res, columns=df_feats_dumm.columns)\n",
    "df_y_smote = pd.DataFrame(y_res, columns=['is_goal'])\n",
    "df_X_smote.to_csv('../X_res_SMOTE_UNK.csv')\n",
    "df_y_smote.to_csv('../y_res_SMOTE_UNK.csv')"
   ]
  },
  {
   "cell_type": "code",
   "execution_count": 145,
   "metadata": {},
   "outputs": [
    {
     "name": "stdout",
     "output_type": "stream",
     "text": [
      "Resampled dataset shape Counter({False: 824932, True: 824932})\n"
     ]
    }
   ],
   "source": [
    "print('Resampled dataset shape %s' % Counter(y_res))"
   ]
  },
  {
   "cell_type": "markdown",
   "metadata": {},
   "source": [
    "## Logistic Regression model"
   ]
  },
  {
   "cell_type": "code",
   "execution_count": 146,
   "metadata": {},
   "outputs": [
    {
     "name": "stdout",
     "output_type": "stream",
     "text": [
      "              precision    recall  f1-score   support\n",
      "\n",
      "       False       1.00      0.95      0.97     91631\n",
      "        True       0.34      0.99      0.51      2470\n",
      "\n",
      "   micro avg       0.95      0.95      0.95     94101\n",
      "   macro avg       0.67      0.97      0.74     94101\n",
      "weighted avg       0.98      0.95      0.96     94101\n",
      "\n",
      "[[86870  4761]\n",
      " [   21  2449]]\n",
      "Accuracy:  0.9491822616125227\n",
      "Balanced Acc:  0.9697697886749339\n"
     ]
    }
   ],
   "source": [
    "from sklearn import metrics\n",
    "from sklearn.linear_model import LogisticRegression\n",
    "\n",
    "model = LogisticRegression()\n",
    "model.fit(X_res, y_res)\n",
    "\n",
    "# make predictions\n",
    "expected = y_val\n",
    "predicted = model.predict(x_val)\n",
    "\n",
    "# summarize the fit of the model\n",
    "print(metrics.classification_report(expected, predicted))\n",
    "print(metrics.confusion_matrix(expected, predicted))\n",
    "\n",
    "print('Accuracy: ', metrics.accuracy_score(expected, predicted))\n",
    "print('Balanced Acc: ', metrics.balanced_accuracy_score(expected, predicted))"
   ]
  },
  {
   "cell_type": "markdown",
   "metadata": {},
   "source": [
    "## Random Forest"
   ]
  },
  {
   "cell_type": "code",
   "execution_count": 147,
   "metadata": {},
   "outputs": [
    {
     "name": "stderr",
     "output_type": "stream",
     "text": [
      "[Parallel(n_jobs=-1)]: Using backend ThreadingBackend with 8 concurrent workers.\n",
      "[Parallel(n_jobs=-1)]: Done  34 tasks      | elapsed:   41.1s\n",
      "[Parallel(n_jobs=-1)]: Done 100 out of 100 | elapsed:  1.8min finished\n",
      "[Parallel(n_jobs=8)]: Using backend ThreadingBackend with 8 concurrent workers.\n",
      "[Parallel(n_jobs=8)]: Done  34 tasks      | elapsed:    0.1s\n",
      "[Parallel(n_jobs=8)]: Done 100 out of 100 | elapsed:    0.2s finished\n"
     ]
    },
    {
     "name": "stdout",
     "output_type": "stream",
     "text": [
      "              precision    recall  f1-score   support\n",
      "\n",
      "       False       0.99      0.98      0.99     91631\n",
      "        True       0.49      0.79      0.61      2470\n",
      "\n",
      "   micro avg       0.97      0.97      0.97     94101\n",
      "   macro avg       0.74      0.88      0.80     94101\n",
      "weighted avg       0.98      0.97      0.98     94101\n",
      "\n",
      "[[89600  2031]\n",
      " [  514  1956]]\n",
      "Accuracy:  0.9729545913433438\n",
      "Balanced Acc:  0.8848689230882341\n"
     ]
    },
    {
     "data": {
      "image/png": "[encoded data removed]",
      "text/plain": [
       "<Figure size 720x432 with 1 Axes>"
      ]
     },
     "metadata": {
      "needs_background": "dark"
     },
     "output_type": "display_data"
    }
   ],
   "source": [
    "# Make the random forest classifier\n",
    "random_forest = RandomForestClassifier(n_estimators = 100, random_state = 12, verbose = 1, n_jobs = -1)\n",
    "# Train on the training data\n",
    "random_forest.fit(X_res, y_res);\n",
    "\n",
    "# Feature names\n",
    "features = list(df_feats_dumm.columns)\n",
    "\n",
    "# Extract feature importances\n",
    "feature_importance_values = random_forest.feature_importances_\n",
    "feature_importances = pd.DataFrame({'feature': features, 'importance': feature_importance_values})\n",
    "\n",
    "# Make predictions on the test data\n",
    "predictions = random_forest.predict(x_val)\n",
    "\n",
    "# summarize the fit of the model\n",
    "print(metrics.classification_report(y_val, predictions))\n",
    "print(metrics.confusion_matrix(y_val, predictions))\n",
    "\n",
    "print('Accuracy: ', metrics.accuracy_score(y_val, predictions))\n",
    "print('Balanced Acc: ', metrics.balanced_accuracy_score(y_val, predictions))\n",
    "\n",
    "# Show the feature importances for the default features\n",
    "feature_importances_sorted = plot_feature_importances(feature_importances)"
   ]
  },
  {
   "cell_type": "markdown",
   "metadata": {},
   "source": [
    "# 2 Odds"
   ]
  },
  {
   "cell_type": "markdown",
   "metadata": {},
   "source": [
    "\n",
    "\n",
    "Odds are interpreted as the amount you will recieve back for every 1£ you bet on that result. For example, if the odds for a home win is 4, you will recieve 4£ for every 1£ you bet on a home win. Thus, from the perspective of the bookmaker, they would set a lower odd for the result they predict. The following function would return the bookmakers' predicted result of a match based on the highest odds for each result for a particular match.\n"
   ]
  },
  {
   "cell_type": "code",
   "execution_count": 95,
   "metadata": {},
   "outputs": [],
   "source": [
    "df_game_info = pd.read_csv(\"../data/ginf.csv\")"
   ]
  },
  {
   "cell_type": "code",
   "execution_count": 96,
   "metadata": {},
   "outputs": [],
   "source": [
    "def odds_pred_result(odd_h,odd_d,odd_a):\n",
    "    '''\n",
    "    Predict game final result according to the odds for (home win, draw, and )\n",
    "    Predict result of a match based on the highest odds for each result for a particular match\n",
    "    '''\n",
    "    if odd_h<odd_d and odd_h<odd_a:\n",
    "        return(\"Home Win\")\n",
    "    elif odd_d<odd_h and odd_d<odd_a:\n",
    "        return(\"Draw\")\n",
    "    elif odd_a<odd_d and odd_a<odd_h:\n",
    "        return(\"Away Win\")\n",
    "    \n",
    "\n",
    "\n",
    "# The next function would return the actual result of the match.\n",
    "def actual_result(fthg,ftag):\n",
    "    if fthg>ftag:\n",
    "        return(\"Home Win\")\n",
    "    elif fthg==ftag:\n",
    "        return(\"Draw\")\n",
    "    elif fthg<ftag:\n",
    "        return(\"Away Win\")\n",
    "    \n",
    "def actual_result_encode(fthg,ftag):\n",
    "    if fthg>ftag:\n",
    "        return (1)\n",
    "    elif fthg==ftag:\n",
    "        return (2)\n",
    "    elif fthg<ftag:\n",
    "        return (3)"
   ]
  },
  {
   "cell_type": "code",
   "execution_count": 97,
   "metadata": {},
   "outputs": [
    {
     "data": {
      "text/plain": [
       "'0.53% correct'"
      ]
     },
     "execution_count": 97,
     "metadata": {},
     "output_type": "execute_result"
    }
   ],
   "source": [
    "# We now compare the chances of us predicting the result of the game correctly just by looking at the odds.\n",
    "def check_pred(data):\n",
    "    correct=0\n",
    "    wrong=0\n",
    "    for i in range(1,data.shape[0]+1):\n",
    "        odd_h=data[i-1:i][\"odd_h\"].item()\n",
    "        odd_d=data[i-1:i][\"odd_d\"].item()\n",
    "        odd_a=data[i-1:i][\"odd_a\"].item()\n",
    "        fthg=data[i-1:i][\"fthg\"].item()\n",
    "        ftag=data[i-1:i][\"ftag\"].item()\n",
    "        oddsresult=odds_pred_result(odd_h,odd_d,odd_a)\n",
    "        actresult=actual_result(fthg,ftag)\n",
    "        if oddsresult==actresult:\n",
    "            correct+=1\n",
    "        else:\n",
    "            wrong+=1\n",
    "    return(str(\"%.2f\"%(correct/(correct+wrong)))+str(\"% correct\"))\n",
    "\n",
    "check_pred(df_game_info)"
   ]
  },
  {
   "cell_type": "markdown",
   "metadata": {},
   "source": [
    "## We will try to use the odds and the difference among the odds to predict the result of a match.\n"
   ]
  },
  {
   "cell_type": "code",
   "execution_count": 98,
   "metadata": {
    "scrolled": true
   },
   "outputs": [
    {
     "data": {
      "text/html": [
       "<div>\n",
       "<style scoped>\n",
       "    .dataframe tbody tr th:only-of-type {\n",
       "        vertical-align: middle;\n",
       "    }\n",
       "\n",
       "    .dataframe tbody tr th {\n",
       "        vertical-align: top;\n",
       "    }\n",
       "\n",
       "    .dataframe thead th {\n",
       "        text-align: right;\n",
       "    }\n",
       "</style>\n",
       "<table border=\"1\" class=\"dataframe\">\n",
       "  <thead>\n",
       "    <tr style=\"text-align: right;\">\n",
       "      <th></th>\n",
       "      <th>0</th>\n",
       "    </tr>\n",
       "  </thead>\n",
       "  <tbody>\n",
       "    <tr>\n",
       "      <th>10107</th>\n",
       "      <td>2</td>\n",
       "    </tr>\n",
       "    <tr>\n",
       "      <th>10108</th>\n",
       "      <td>1</td>\n",
       "    </tr>\n",
       "    <tr>\n",
       "      <th>10109</th>\n",
       "      <td>1</td>\n",
       "    </tr>\n",
       "    <tr>\n",
       "      <th>10110</th>\n",
       "      <td>2</td>\n",
       "    </tr>\n",
       "    <tr>\n",
       "      <th>10111</th>\n",
       "      <td>1</td>\n",
       "    </tr>\n",
       "  </tbody>\n",
       "</table>\n",
       "</div>"
      ],
      "text/plain": [
       "       0\n",
       "10107  2\n",
       "10108  1\n",
       "10109  1\n",
       "10110  2\n",
       "10111  1"
      ]
     },
     "execution_count": 98,
     "metadata": {},
     "output_type": "execute_result"
    }
   ],
   "source": [
    "x_odds = df_game_info.iloc[:,9:14]\n",
    "x_odds.head()\n",
    "\n",
    "result=[]\n",
    "for i in range(1, df_game_info.shape[0]+1):\n",
    "    result.append(actual_result_encode(df_game_info[i-1:i][\"fthg\"].item(),\n",
    "                                       df_game_info[i-1:i][\"ftag\"].item()))\n",
    "y_result = pd.DataFrame(result)\n",
    "\n",
    "x_odds[\"diff_h_d\"] = abs(x_odds[\"odd_h\"] - x_odds[\"odd_d\"])\n",
    "x_odds[\"diff_d_a\"] = abs(x_odds[\"odd_d\"] - x_odds[\"odd_a\"])\n",
    "x_odds[\"diff_h_a\"] = abs(x_odds[\"odd_h\"] - x_odds[\"odd_a\"])\n",
    "x_odds = x_odds.drop([\"fthg\",\"ftag\"],axis=1)\n",
    "\n",
    "x_odds.tail()\n",
    "y_result.tail()"
   ]
  },
  {
   "cell_type": "code",
   "execution_count": 99,
   "metadata": {},
   "outputs": [
    {
     "data": {
      "image/png": "[encoded data removed]",
      "text/plain": [
       "<Figure size 432x288 with 1 Axes>"
      ]
     },
     "metadata": {
      "needs_background": "light"
     },
     "output_type": "display_data"
    }
   ],
   "source": [
    "from sklearn.pipeline import make_pipeline\n",
    "from sklearn.ensemble import RandomForestClassifier\n",
    "from sklearn.feature_selection import SelectKBest\n",
    "from sklearn.ensemble.gradient_boosting import GradientBoostingClassifier\n",
    "from sklearn.linear_model import LogisticRegression\n",
    "from sklearn import svm\n",
    "from sklearn.svm import SVC, LinearSVC\n",
    "from sklearn.neighbors import KNeighborsClassifier\n",
    "from sklearn.tree import DecisionTreeClassifier\n",
    "from sklearn.naive_bayes import MultinomialNB\n",
    "from sklearn.feature_selection import SelectFromModel\n",
    "from sklearn.model_selection import KFold\n",
    "from sklearn.model_selection import cross_val_score\n",
    "\n",
    "sns.countplot(y_result.iloc[:,0]);"
   ]
  },
  {
   "cell_type": "code",
   "execution_count": 100,
   "metadata": {},
   "outputs": [
    {
     "name": "stdout",
     "output_type": "stream",
     "text": [
      "              precision    recall  f1-score   support\n",
      "\n",
      "           1       0.54      0.89      0.67       925\n",
      "           2       0.00      0.00      0.00       519\n",
      "           3       0.56      0.50      0.53       579\n",
      "\n",
      "   micro avg       0.55      0.55      0.55      2023\n",
      "   macro avg       0.37      0.46      0.40      2023\n",
      "weighted avg       0.41      0.55      0.46      2023\n",
      "\n",
      "[[820   0 105]\n",
      " [396   0 123]\n",
      " [289   0 290]]\n",
      "Accuracy:  0.5486900642609985\n",
      "Balanced Acc:  0.462450014781621\n"
     ]
    }
   ],
   "source": [
    "x_odds_train, x_odds_test, y_odds_train, y_odds_test = train_test_split(x_odds, y_result, test_size=0.2,random_state=0)\n",
    "\n",
    "# Logistic regression\n",
    "\n",
    "from sklearn import metrics\n",
    "from sklearn.linear_model import LogisticRegression\n",
    "\n",
    "model = LogisticRegression()\n",
    "model.fit(x_odds_train, y_odds_train)\n",
    "\n",
    "# make predictions\n",
    "expected = y_odds_test\n",
    "predicted = model.predict(x_odds_test)\n",
    "\n",
    "# summarize the fit of the model\n",
    "print(metrics.classification_report(expected, predicted))\n",
    "print(metrics.confusion_matrix(expected, predicted))\n",
    "\n",
    "print('Accuracy: ', metrics.accuracy_score(expected, predicted))\n",
    "print('Balanced Acc: ', metrics.balanced_accuracy_score(expected, predicted))"
   ]
  },
  {
   "cell_type": "markdown",
   "metadata": {},
   "source": [
    "## Gradient Boosting model"
   ]
  },
  {
   "cell_type": "code",
   "execution_count": 101,
   "metadata": {
    "scrolled": true
   },
   "outputs": [
    {
     "name": "stdout",
     "output_type": "stream",
     "text": [
      "              precision    recall  f1-score   support\n",
      "\n",
      "           1       0.56      0.82      0.67       925\n",
      "           2       0.27      0.05      0.08       519\n",
      "           3       0.54      0.53      0.53       579\n",
      "\n",
      "   micro avg       0.54      0.54      0.54      2023\n",
      "   macro avg       0.46      0.47      0.43      2023\n",
      "weighted avg       0.48      0.54      0.48      2023\n",
      "\n",
      "[[763  36 126]\n",
      " [352  25 142]\n",
      " [239  31 309]]\n",
      "Accuracy:  0.5422639644092931\n",
      "Balanced Acc:  0.4689043927272086\n"
     ]
    }
   ],
   "source": [
    "\n",
    "# Create the model\n",
    "gradient_boosted = GradientBoostingClassifier()\n",
    "\n",
    "# Fit the model on the training data\n",
    "gradient_boosted.fit(x_odds_train, y_odds_train)\n",
    "\n",
    "# Make predictions on the test data\n",
    "predictions = gradient_boosted.predict(x_odds_test)\n",
    "\n",
    "# summarize the fit of the model\n",
    "print(metrics.classification_report(y_odds_test, predictions))\n",
    "print(metrics.confusion_matrix(y_odds_test, predictions))\n",
    "\n",
    "# Evaluate the model\n",
    "print('Accuracy: ', metrics.accuracy_score(y_odds_test, predictions))\n",
    "print('Balanced Acc: ', metrics.balanced_accuracy_score(y_odds_test, predictions))"
   ]
  },
  {
   "cell_type": "markdown",
   "metadata": {},
   "source": [
    "## Random Forest"
   ]
  },
  {
   "cell_type": "code",
   "execution_count": 104,
   "metadata": {},
   "outputs": [
    {
     "name": "stderr",
     "output_type": "stream",
     "text": [
      "[Parallel(n_jobs=-1)]: Using backend ThreadingBackend with 8 concurrent workers.\n",
      "[Parallel(n_jobs=-1)]: Done  34 tasks      | elapsed:    0.1s\n",
      "[Parallel(n_jobs=-1)]: Done 100 out of 100 | elapsed:    0.2s finished\n",
      "[Parallel(n_jobs=8)]: Using backend ThreadingBackend with 8 concurrent workers.\n",
      "[Parallel(n_jobs=8)]: Done  34 tasks      | elapsed:    0.1s\n",
      "[Parallel(n_jobs=8)]: Done 100 out of 100 | elapsed:    0.1s finished\n"
     ]
    },
    {
     "name": "stdout",
     "output_type": "stream",
     "text": [
      "              precision    recall  f1-score   support\n",
      "\n",
      "           1       0.56      0.65      0.60       925\n",
      "           2       0.28      0.21      0.24       519\n",
      "           3       0.46      0.44      0.45       579\n",
      "\n",
      "   micro avg       0.48      0.48      0.48      2023\n",
      "   macro avg       0.43      0.43      0.43      2023\n",
      "weighted avg       0.46      0.48      0.47      2023\n",
      "\n",
      "[[605 165 155]\n",
      " [271 110 138]\n",
      " [205 120 254]]\n",
      "Accuracy:  0.4789915966386555\n",
      "Balanced Acc:  0.4348958320685536\n"
     ]
    }
   ],
   "source": [
    "# Make the random forest classifier\n",
    "random_forest = RandomForestClassifier(n_estimators = 100, random_state = 12, verbose = 1, n_jobs = -1)\n",
    "# Train on the training data\n",
    "random_forest.fit(x_odds_train, y_odds_train);\n",
    "\n",
    "# Feature names\n",
    "features = list(df_feats_dumm.columns)\n",
    "\n",
    "# Extract feature importances\n",
    "feature_importance_values = random_forest.feature_importances_\n",
    "# feature_importances = pd.DataFrame({'feature': features, 'importance': feature_importance_values})\n",
    "\n",
    "# Make predictions on the test data\n",
    "predictions = random_forest.predict(x_odds_test)\n",
    "\n",
    "# summarize the fit of the model\n",
    "print(metrics.classification_report(y_odds_test, predictions))\n",
    "print(metrics.confusion_matrix(y_odds_test, predictions))\n",
    "\n",
    "print('Accuracy: ', metrics.accuracy_score(y_odds_test, predictions))\n",
    "print('Balanced Acc: ', metrics.balanced_accuracy_score(y_odds_test, predictions))\n",
    "\n",
    "# Show the feature importances for the default features\n",
    "# feature_importances_sorted = plot_feature_importances(feature_importances)"
   ]
  },
  {
   "cell_type": "code",
   "execution_count": null,
   "metadata": {},
   "outputs": [],
   "source": []
  }
 ],
 "metadata": {
  "kernelspec": {
   "display_name": "Python (ml)",
   "language": "python",
   "name": "ml"
  },
  "language_info": {
   "codemirror_mode": {
    "name": "ipython",
    "version": 3
   },
   "file_extension": ".py",
   "mimetype": "text/x-python",
   "name": "python",
   "nbconvert_exporter": "python",
   "pygments_lexer": "ipython3",
   "version": "3.6.7"
  }
 },
 "nbformat": 4,
 "nbformat_minor": 2
}
